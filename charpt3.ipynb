{
 "cells": [
  {
   "cell_type": "markdown",
   "id": "6328147c",
   "metadata": {},
   "source": [
    "## 优化器"
   ]
  },
  {
   "cell_type": "code",
   "execution_count": null,
   "id": "e34ad1ad",
   "metadata": {},
   "outputs": [],
   "source": [
    "import numpy as np\n",
    "\n",
    "import torch\n",
    "import torch.nn as nn\n",
    "import torch.optim as optim\n",
    "import torch.optim.lr_scheduler as lr_scheduler"
   ]
  },
  {
   "cell_type": "markdown",
   "id": "7c9d8c8f",
   "metadata": {},
   "source": [
    "先定义一个网络"
   ]
  },
  {
   "cell_type": "code",
   "execution_count": null,
   "id": "eaea6e73",
   "metadata": {},
   "outputs": [],
   "source": [
    "class TestNet(nn.Module):\n",
    "    def __init__(self):\n",
    "        super(TestNet, self).__init__()\n",
    "        self.hidden = nn.Sequential(\n",
    "            nn.Linear(13, 10),\n",
    "            nn.ReLU(),\n",
    "        )\n",
    "        self.regression = nn.Linear(10, 1)\n",
    "    \n",
    "    def forward(self, x):\n",
    "        x = self.hidden(x)\n",
    "        output = self.regression(x)\n",
    "        return output"
   ]
  },
  {
   "cell_type": "code",
   "execution_count": null,
   "id": "fe0f49a2",
   "metadata": {},
   "outputs": [],
   "source": [
    "testnet = TestNet()\n",
    "print(testnet)"
   ]
  },
  {
   "cell_type": "markdown",
   "id": "8d63f325",
   "metadata": {},
   "source": [
    "设置优化器——设置统一的优化器，所有层的学习率都相同"
   ]
  },
  {
   "cell_type": "code",
   "execution_count": null,
   "id": "69b347be",
   "metadata": {},
   "outputs": [],
   "source": [
    "optimizer = optim.Adam(testnet.parameters(), lr = 0.001)#其他还有SGD, RMSprop, Adagrad等"
   ]
  },
  {
   "cell_type": "markdown",
   "id": "dd62f76f",
   "metadata": {},
   "source": [
    "为不同的层设置不同学习率的优化器。采用字典的形式"
   ]
  },
  {
   "cell_type": "code",
   "execution_count": null,
   "id": "14d3d70d",
   "metadata": {},
   "outputs": [],
   "source": [
    "optimizer = optim.Adam([{'params': testnet.hidden.parameters(), 'lr': 0.001},\n",
    "                        {'params': testnet.regression.parameters(), 'lr': 0.01}],\n",
    "                        lr = 1e-2)"
   ]
  },
  {
   "cell_type": "markdown",
   "id": "8eafe596",
   "metadata": {},
   "source": [
    "在这一步中，我们为hidden层设置学习率0.001；regression层设置学习率0.01。r=1e-2(10的-2次方0.01)将作用于其他没有特殊指定的所有参数"
   ]
  },
  {
   "cell_type": "markdown",
   "id": "f885fbb6",
   "metadata": {},
   "source": [
    "在训练时。在每一个batch中，我们都会调用testnet(input)去前向输出当前网络参数的拟合值pred。然后我们在调用损失函数求得output和target之间的误差。optimizer.zero_grad()能在反向传播之间清空历史梯度信息。optimizer.step()进行参数更新。具体例子如下："
   ]
  },
  {
   "cell_type": "code",
   "execution_count": null,
   "id": "bab44b0e",
   "metadata": {},
   "outputs": [],
   "source": [
    "criteon = nn.CrossEntropyLoss()#交叉熵损失\n",
    "for input, target in dataset:\n",
    "    optimizer.zero_grad()#清空历史梯度\n",
    "    output = testnet(input)#输出当前参数的拟合结果\n",
    "    print(output.shape)\n",
    "    loss = criteon(output, target)\n",
    "    print('loss : {}'.format(loss))\n",
    "    loss.backward()\n",
    "    optimizer.step()"
   ]
  },
  {
   "cell_type": "markdown",
   "id": "d3a73865",
   "metadata": {},
   "source": [
    "学习率优化器"
   ]
  },
  {
   "cell_type": "code",
   "execution_count": null,
   "id": "10e2835a",
   "metadata": {},
   "outputs": [],
   "source": [
    "lr_scheduler.LambdaLR(optimizer, lr_lambda, last_epoch = -1)#optimizer是优化器， last_epoch表示开始训练后即开始调整学习率\n",
    "\n",
    "lr_scheduler.StepLR(optimizer, step_size, gamma, last_epoch = -1) #每隔step_size个epoch调整学习率为原来的gamma倍\n",
    "\n",
    "lr_scheduler.MultiStepLR(optimizer, milestones, gamma = 0.1, last_epoch = -1)\n",
    "\n",
    "lr_scheduler.ExponentialLR(optimizer, gamma, last_epoch = -1) #指数衰减， lr = lr*gamma^(epoch)\n"
   ]
  },
  {
   "cell_type": "markdown",
   "id": "09ca9e43",
   "metadata": {},
   "source": [
    "## 损失函数"
   ]
  },
  {
   "cell_type": "markdown",
   "id": "12357aa5",
   "metadata": {},
   "source": [
    "深度学习的优化方法直接作用的对象是损失函数。损失函数是用来表示预测与实际数据之间的差距程度，一个最优化问题的目标就是将损失函数最小化。\n",
    "Pytorch的nn模块提供了可直接使用的损失函数，如交叉熵，均方损失等"
   ]
  },
  {
   "cell_type": "code",
   "execution_count": null,
   "id": "62c41020",
   "metadata": {},
   "outputs": [],
   "source": [
    "criteon = nn.MSELoss(size_averatge = None, reduce = None, reduction = 'mean')\n",
    "#reduction一般取none，mean，sum。取mean则实际计算的损失为: 1/N[(xi - yi)^2]; 取sum则不会除以N"
   ]
  },
  {
   "cell_type": "code",
   "execution_count": null,
   "id": "981707dd",
   "metadata": {},
   "outputs": [],
   "source": [
    "criteon = nn.CrossEntropyLoss(weight = None, size_average = None, ignore_index = -100, reduce = None, reduction = 'mean')\n"
   ]
  },
  {
   "cell_type": "markdown",
   "id": "f3d9235f",
   "metadata": {},
   "source": [
    "## 防止过拟合"
   ]
  },
  {
   "cell_type": "markdown",
   "id": "d38a7770",
   "metadata": {},
   "source": [
    "什么是过拟合：\n",
    "    过拟合通常是指针对训练好的深度学习网络，在使用训练数据集训练时，在训练数据集上能够获得很高的识别精度（针对分类问题），或者很低的均方误差（针对回归问题），但是把训练好的模型作用于测试集进行预测时，预测效果往往不是很理想。深度学习网络通常会有大量的可训练的参数，参数使网络具有很强的表达能力，使其在很多领域的性能超过了众多的“传统”机器学习方法。但众多的参数也带来了深度学习网络更容易得到过拟合的训练结果。"
   ]
  },
  {
   "cell_type": "markdown",
   "id": "3387a24e",
   "metadata": {},
   "source": [
    "防止过拟合的措施：\n",
    "    1.增加数据量：数据量越少，过拟合发生的可能性越大。更多的训练样本通常会使模型更加稳定，所以训练样本的增加不仅可以得到更有效的训练结果，也能自一定程度上防止过拟合，增加网络的泛化能力。数据增强是一种扩充数据集的方法，如在图像中，我们通过切割，缩放，旋转，平移，增加噪声都可扩充数据。另外，基于GAN生成数据集也是一种可取的方法。\n",
    "    2.正则化：正则化通常是在损失函数上添加对训练参数的惩罚范数，通过添加的范数乘法对需要训练的参数进行约束，降低参数权重，防止模型过拟合。通常的正则化参数有L1和L2范数。L1参数的目的是将参数的绝对值最小化，L2范数的目的是将参数的平方和最小化。在线性回归中，Lasso回归使用L1正则化；Ridge回归采用L2正则化\n",
    "    3.Dropout：Dropout操作会以一定概率随机丢掉神经元，即在每个训练批次中，通过忽略一定百分比的神经元数量（通常是一半的神经元），减轻网络的过拟合现象。Dropout和正则化操作一样，都会使模型不会过度依赖某些局部的特征。Dropout在实现思想上，与集成学习相通。\n",
    "    4.早停止：我们通常将数据集划分为训练集，验证集和测试集。当网络在验证集上的损失不再减小，或者精度不再增加时，即认为网络已经训练充分，应终止网络的继续训练。\n",
    "    5.降低模型复杂度\n"
   ]
  },
  {
   "cell_type": "markdown",
   "id": "6c9678a8",
   "metadata": {},
   "source": [
    "## 参数初始化"
   ]
  },
  {
   "cell_type": "markdown",
   "id": "d8c7c096",
   "metadata": {},
   "source": [
    "   对于搭建的网络，一般情况下使用默认的参数初始化就能获得比较稳定的结果，但是了解常用的参数初始化方法，并合理地使用它们，有时会得到意想不到的高精度训练结果。\n",
    "    pytorch中，初始化方法在nn模块的init模块下"
   ]
  },
  {
   "cell_type": "markdown",
   "id": "360eee5d",
   "metadata": {},
   "source": [
    "### 1.针对某一层的权重进行初始化"
   ]
  },
  {
   "cell_type": "code",
   "execution_count": null,
   "id": "3ee71b34",
   "metadata": {},
   "outputs": [],
   "source": [
    "conv1 = nn.Conv2d(3, 16 ,3) #定义一个输入3通道，输出16通道，3*3的卷积核\n",
    "\n",
    "torch.manual_seed(12) #随机初始化种子\n",
    "nn.init.normal(conv1.weight, mean = 0, std = 1) #采用服从标准正态分布的数据进行初始化\n",
    "\n",
    "import matplotlib.pyplot as plt\n",
    "\n",
    "plt.figure(figsize = (8, 6))\n",
    "plt.hist(conv1.weight.data.numpy().reshape((-1, 1)), bins = 30)\n",
    "plt.show()"
   ]
  },
  {
   "cell_type": "markdown",
   "id": "9a27f261",
   "metadata": {},
   "source": [
    "通过nn.init.constant()函数设置初始偏置"
   ]
  },
  {
   "cell_type": "code",
   "execution_count": null,
   "id": "ad679e4f",
   "metadata": {
    "scrolled": false
   },
   "outputs": [],
   "source": [
    "nn.init.constant(conv1.bias, val = 0.1)"
   ]
  },
  {
   "cell_type": "markdown",
   "id": "54e50082",
   "metadata": {},
   "source": [
    "### 针对一个网络的权重初始化方法"
   ]
  },
  {
   "cell_type": "markdown",
   "id": "f7ae46cd",
   "metadata": {},
   "source": [
    "直接上实例。先定义一个测试网络"
   ]
  },
  {
   "cell_type": "code",
   "execution_count": null,
   "id": "a10000d4",
   "metadata": {},
   "outputs": [],
   "source": [
    "class TestNet(nn.Module):\n",
    "    def __init__(self):\n",
    "        super(TestNet, self).__init__()\n",
    "        self.conv1 = nn.Conv2d(3, 16, 3)\n",
    "        self.hidden = nn.Sequential(\n",
    "            nn.Linear(100, 100),\n",
    "            nn.ReLU(),\n",
    "            nn.Linear(100, 50),\n",
    "            nn.ReLU(),\n",
    "        )\n",
    "        self.cla = nn.Linear(50, 10)\n",
    "        \n",
    "    def forward(self, x):\n",
    "        x = self.conv1(x)\n",
    "        x = x.view(x.shape[0], -1)\n",
    "        x = self.hidden(x)\n",
    "        output = self.cla(x)\n",
    "        return output\n",
    "\n",
    "testNet = TestNet()\n",
    "print(testNet)"
   ]
  },
  {
   "cell_type": "markdown",
   "id": "ef2e393b",
   "metadata": {},
   "source": [
    "TestNet网络一共包含4层。第1层为卷积层，第2，3，4层为全连接层。如果我们想对不同类型的层定义不同的初始化参数，可以自定义函数如下："
   ]
  },
  {
   "cell_type": "code",
   "execution_count": null,
   "id": "c34f635b",
   "metadata": {},
   "outputs": [],
   "source": [
    "def init_weights(m):\n",
    "    if type(m) == nn.Conv2d:\n",
    "        nn.init.normal(m.weight, mean = 0, std = 0.5)\n",
    "    if type(m) == nn.Linear:\n",
    "        nn.init.uniform(m.weight, a =-0.1, b = 0.1) #uniform为均匀分布，a为下限，b为上限\n",
    "        nn.init.constant(m.bias, val = 0.01)"
   ]
  },
  {
   "cell_type": "code",
   "execution_count": null,
   "id": "951cd9b9",
   "metadata": {
    "scrolled": true
   },
   "outputs": [],
   "source": [
    "torch.manual_seed(13)\n",
    "testNet.apply(init_weights)"
   ]
  },
  {
   "cell_type": "markdown",
   "id": "dd7a568e",
   "metadata": {},
   "source": [
    "可通过state_dict()查看所有参数"
   ]
  },
  {
   "cell_type": "code",
   "execution_count": null,
   "id": "8f442966",
   "metadata": {},
   "outputs": [],
   "source": [
    "testNet.state_dict()"
   ]
  },
  {
   "cell_type": "markdown",
   "id": "5bf16020",
   "metadata": {},
   "source": [
    "## PyTorch中定义网络的方式"
   ]
  },
  {
   "cell_type": "markdown",
   "id": "ba246fe0",
   "metadata": {},
   "source": [
    "PyTorch中提供了多种搭建网络的方法，下面以一个简单的全连接神经网络为例，介绍定义网络的过程。我们将使用Module和Sequential两种不同的方式定义网络"
   ]
  },
  {
   "cell_type": "markdown",
   "id": "5301e1b5",
   "metadata": {},
   "source": [
    "第一步，导入相关的包"
   ]
  },
  {
   "cell_type": "code",
   "execution_count": 1,
   "id": "32b324d9",
   "metadata": {},
   "outputs": [],
   "source": [
    "import torch\n",
    "import torch.nn as nn\n",
    "import torch.optim as optim\n",
    "import torch.utils.data as Data\n",
    "from sklearn.datasets import load_boston\n",
    "from sklearn.preprocessing import StandardScaler\n",
    "import pandas as pd\n",
    "import numpy as np\n",
    "import matplotlib.pyplot as plt"
   ]
  },
  {
   "cell_type": "markdown",
   "id": "a39ac68e",
   "metadata": {},
   "source": [
    "导入波士顿房价数据"
   ]
  },
  {
   "cell_type": "code",
   "execution_count": 2,
   "id": "c18a2ef5",
   "metadata": {},
   "outputs": [
    {
     "name": "stdout",
     "output_type": "stream",
     "text": [
      "boston_X.shape: (506, 13)\n"
     ]
    },
    {
     "data": {
      "image/png": "[encoded data removed]",
      "text/plain": [
       "<Figure size 432x288 with 1 Axes>"
      ]
     },
     "metadata": {
      "needs_background": "light"
     },
     "output_type": "display_data"
    }
   ],
   "source": [
    "boston_X, boston_y = load_boston(return_X_y = True) #return_X_y =True，返回数据分为X，y；否则返回data，target的字典形式\n",
    "print('boston_X.shape:', boston_X.shape)\n",
    "plt.figure()\n",
    "plt.hist(boston_y, bins = 20)\n",
    "plt.show()"
   ]
  },
  {
   "cell_type": "markdown",
   "id": "442cd2b0",
   "metadata": {},
   "source": [
    "使用StandardScaler()对数据集中的变量进行标准化处理，再转换为张量，最后将数据加载进DataLoader方便训练"
   ]
  },
  {
   "cell_type": "code",
   "execution_count": 3,
   "id": "20fa627d",
   "metadata": {},
   "outputs": [],
   "source": [
    "#数据进行标准化处理\n",
    "ss = StandardScaler(with_mean = True, with_std = True)\n",
    "boston_Xs = ss.fit_transform(boston_X)\n",
    "\n",
    "#训练集X和y转换为张量\n",
    "train_xt = torch.from_numpy(boston_Xs.astype(np.float32))\n",
    "train_yt = torch.from_numpy(boston_y.astype(np.float32))\n",
    "\n",
    "#将data和target整合到一起\n",
    "train_data = Data.TensorDataset(train_xt, train_yt)\n",
    "\n",
    "#定义一个数据加载器，将数据批处理\n",
    "train_loader = Data.DataLoader(dataset = train_data, #指定数据集 \n",
    "                               batch_size = 128, #批处理大小\n",
    "                               shuffle = True, #打乱数据\n",
    "                               num_workers = 1,) #使用两个进程\n"
   ]
  },
  {
   "cell_type": "markdown",
   "id": "080b99e5",
   "metadata": {},
   "source": [
    "### 网络定义与训练方式1"
   ]
  },
  {
   "cell_type": "markdown",
   "id": "cdbd758c",
   "metadata": {},
   "source": [
    "在数据进行预处理后，可以使用即成Module的方式定义一个包含层的全连接神经网络"
   ]
  },
  {
   "cell_type": "code",
   "execution_count": 4,
   "id": "d39bc993",
   "metadata": {},
   "outputs": [
    {
     "name": "stdout",
     "output_type": "stream",
     "text": [
      "MLPmodel(\n",
      "  (hidden1): Linear(in_features=13, out_features=10, bias=True)\n",
      "  (active1): ReLU()\n",
      "  (hidden2): Linear(in_features=10, out_features=10, bias=True)\n",
      "  (active2): ReLU()\n",
      "  (regression): Linear(in_features=10, out_features=1, bias=True)\n",
      ")\n"
     ]
    }
   ],
   "source": [
    "class MLPmodel(nn.Module): #所有模型都要继承nn.Module类\n",
    "    def __init__(self): #构造方法\n",
    "        super(MLPmodel, self).__init__() #这前三行是个固定模式，几乎都可以这么写\n",
    "        self.hidden1 = nn.Linear(\n",
    "            in_features = 13, #输入特征数量\n",
    "            out_features = 10, #输出特征数量\n",
    "            bias = True, #默认会有偏置\n",
    "        )\n",
    "        self.active1 = nn.ReLU()\n",
    "        self.hidden2 = nn.Linear(10,10)\n",
    "        self.active2 = nn.ReLU()\n",
    "        self.regression = nn.Linear(10, 1)\n",
    "    def forward(self, x):\n",
    "        x = self.hidden1(x)\n",
    "        x = self.active1(x)\n",
    "        x = self.hidden2(x)\n",
    "        x = self.active2(x)\n",
    "        output = self.regression(x)\n",
    "        return output\n",
    "\n",
    "mlpl = MLPmodel()\n",
    "print(mlpl)"
   ]
  },
  {
   "cell_type": "markdown",
   "id": "60f4c70c",
   "metadata": {},
   "source": [
    "我们在定义一个网络模型时，主要定义两个部分。1.网络结构，2.定义网络结构的向前传播过程forward()函数"
   ]
  },
  {
   "cell_type": "markdown",
   "id": "2d07a3c7",
   "metadata": {},
   "source": [
    "定义好模型后，我们对其进行训练"
   ]
  },
  {
   "cell_type": "code",
   "execution_count": 5,
   "id": "987594e9",
   "metadata": {},
   "outputs": [],
   "source": [
    "optimizer = optim.SGD(mlpl.parameters(), lr = 0.001)#定义优化器\n",
    "criteon = nn.MSELoss()\n",
    "train_loss_all = [] #保存损失函数的值\n",
    "epochs = 30\n",
    "import torch.optim.lr_scheduler as lr_scheduler\n",
    "\n",
    "scheduler = lr_scheduler.StepLR(optimizer, step_size = 5, gamma = 0.1)"
   ]
  },
  {
   "cell_type": "code",
   "execution_count": 6,
   "id": "d516270f",
   "metadata": {},
   "outputs": [
    {
     "data": {
      "text/plain": [
       "Text(0.5, 1.0, 'Train loss per iteration')"
      ]
     },
     "execution_count": 6,
     "metadata": {},
     "output_type": "execute_result"
    },
    {
     "data": {
      "image/png": "[encoded data removed]",
      "text/plain": [
       "<Figure size 432x288 with 1 Axes>"
      ]
     },
     "metadata": {
      "needs_background": "light"
     },
     "output_type": "display_data"
    }
   ],
   "source": [
    "for epoch in range(epochs):\n",
    "    for batch_idx, (data, target) in enumerate(train_loader):\n",
    "        output = mlpl(data).flatten()\n",
    "        train_loss = criteon(output, target)\n",
    "        optimizer.zero_grad()\n",
    "        train_loss.backward()\n",
    "        optimizer.step()\n",
    "        train_loss_all.append(train_loss.item())\n",
    "#     scheduler.step()\n",
    "    \n",
    "plt.figure()\n",
    "plt.plot(train_loss_all, 'r--')\n",
    "plt.title('Train loss per iteration')"
   ]
  },
  {
   "cell_type": "markdown",
   "id": "4be6dc0b",
   "metadata": {},
   "source": [
    "### 网络定义与训练方式2"
   ]
  },
  {
   "cell_type": "markdown",
   "id": "68818803",
   "metadata": {},
   "source": [
    "我们在定义网络结构时，每层都指定了一个名称。在PyTorch中提供了可以将多个功能层连接在一起的函数nn.Sequential()，以大大方便网络向前传播函数的定义"
   ]
  },
  {
   "cell_type": "code",
   "execution_count": 7,
   "id": "fbf1e17a",
   "metadata": {},
   "outputs": [
    {
     "name": "stdout",
     "output_type": "stream",
     "text": [
      "MLPmodel2(\n",
      "  (hidden): Sequential(\n",
      "    (0): Linear(in_features=13, out_features=10, bias=True)\n",
      "    (1): ReLU()\n",
      "    (2): Linear(in_features=10, out_features=10, bias=True)\n",
      "    (3): ReLU()\n",
      "  )\n",
      "  (regression): Linear(in_features=10, out_features=1, bias=True)\n",
      ")\n"
     ]
    }
   ],
   "source": [
    "class MLPmodel2(nn.Module):\n",
    "    def __init__(self):\n",
    "        super(MLPmodel2, self).__init__()\n",
    "        self. hidden = nn.Sequential(\n",
    "            nn.Linear(13, 10),\n",
    "            nn.ReLU(),\n",
    "            nn.Linear(10, 10),\n",
    "            nn.ReLU(),\n",
    "        )\n",
    "        self.regression = nn.Linear(10,1)\n",
    "    def forward(self, x):\n",
    "        x = self.hidden(x)\n",
    "        output = self.regression(x)\n",
    "        return output\n",
    "\n",
    "mlp2 = MLPmodel2()\n",
    "print(mlp2)"
   ]
  },
  {
   "cell_type": "code",
   "execution_count": 8,
   "id": "d763aa51",
   "metadata": {},
   "outputs": [
    {
     "data": {
      "text/plain": [
       "Text(0.5, 1.0, 'Train loss per iteration')"
      ]
     },
     "execution_count": 8,
     "metadata": {},
     "output_type": "execute_result"
    },
    {
     "data": {
      "image/png": "[encoded data removed]",
      "text/plain": [
       "<Figure size 432x288 with 1 Axes>"
      ]
     },
     "metadata": {
      "needs_background": "light"
     },
     "output_type": "display_data"
    }
   ],
   "source": [
    "optimizer = optim.SGD(mlp2.parameters(), lr = 0.001)#定义优化器\n",
    "criteon = nn.MSELoss()\n",
    "train_loss_all = [] #保存损失函数的值\n",
    "epochs = 30\n",
    "\n",
    "for epoch in range(epochs):\n",
    "    for batch_idx, (data, target) in enumerate(train_loader):\n",
    "        output = mlp2(data).flatten()\n",
    "        train_loss = criteon(output, target)\n",
    "        optimizer.zero_grad()\n",
    "        train_loss.backward()\n",
    "        optimizer.step()\n",
    "        train_loss_all.append(train_loss.item())\n",
    "#     scheduler.step()\n",
    "    \n",
    "plt.figure()\n",
    "plt.plot(train_loss_all, 'r--')\n",
    "plt.title('Train loss per iteration')"
   ]
  },
  {
   "cell_type": "markdown",
   "id": "de83530d",
   "metadata": {},
   "source": [
    "## PyTorch模型保存和加载方法"
   ]
  },
  {
   "cell_type": "markdown",
   "id": "8daf2bb9",
   "metadata": {},
   "source": [
    "方法一，保存整个模型"
   ]
  },
  {
   "cell_type": "code",
   "execution_count": 9,
   "id": "4b376ea7",
   "metadata": {},
   "outputs": [],
   "source": [
    "#保存\n",
    "torch.save(mlp2,'./models/mlp2.pkl')"
   ]
  },
  {
   "cell_type": "code",
   "execution_count": 10,
   "id": "8c0d0e3c",
   "metadata": {},
   "outputs": [
    {
     "data": {
      "text/plain": [
       "MLPmodel2(\n",
       "  (hidden): Sequential(\n",
       "    (0): Linear(in_features=13, out_features=10, bias=True)\n",
       "    (1): ReLU()\n",
       "    (2): Linear(in_features=10, out_features=10, bias=True)\n",
       "    (3): ReLU()\n",
       "  )\n",
       "  (regression): Linear(in_features=10, out_features=1, bias=True)\n",
       ")"
      ]
     },
     "execution_count": 10,
     "metadata": {},
     "output_type": "execute_result"
    }
   ],
   "source": [
    "#导入\n",
    "mlp2load = torch.load('./models/mlp2.pkl')\n",
    "mlp2load"
   ]
  },
  {
   "cell_type": "code",
   "execution_count": 11,
   "id": "f6e37d8e",
   "metadata": {},
   "outputs": [
    {
     "data": {
      "text/plain": [
       "OrderedDict([('hidden.0.weight',\n",
       "              tensor([[-0.0058, -0.1397, -0.0760, -0.1860,  0.0296,  0.3530, -0.0720, -0.3940,\n",
       "                       -0.3101, -0.3187, -0.3135,  0.1764, -0.0633],\n",
       "                      [-0.4014, -0.0777, -0.2316, -0.1347, -0.2266,  0.5957,  0.1331,  0.0955,\n",
       "                       -0.3320, -0.2492, -0.0065, -0.0642, -0.3999],\n",
       "                      [ 0.1620,  0.1116,  0.0054,  0.1560, -0.1858, -0.1545, -0.0089, -0.1966,\n",
       "                       -0.1111,  0.1111, -0.1307, -0.0806,  0.1085],\n",
       "                      [-0.2796,  0.0772, -0.1915,  0.0174, -0.2997,  0.3784, -0.1944, -0.3627,\n",
       "                       -0.4716, -0.4029, -0.0403,  0.3282,  0.0620],\n",
       "                      [-0.0071, -0.2813,  0.3766,  0.1662,  0.1545,  0.4594, -0.1505, -0.0423,\n",
       "                        0.4687, -0.0396, -0.0357,  0.0810, -0.4900],\n",
       "                      [ 0.1015,  0.1161, -0.3446, -0.0634, -0.3582,  0.3148, -0.3035,  0.1055,\n",
       "                       -0.2953, -0.0907, -0.0186,  0.0864, -0.2738],\n",
       "                      [ 0.1935,  0.1494, -0.2649,  0.1288,  0.0850,  0.4316,  0.1514,  0.0227,\n",
       "                       -0.0104,  0.2185, -0.0990,  0.0202,  0.1410],\n",
       "                      [-0.2901, -0.1150,  0.3354,  0.4180,  0.1461, -0.0663,  0.2089, -0.4181,\n",
       "                        0.1908,  0.3186,  0.2570,  0.0242, -0.2006],\n",
       "                      [-0.2307, -0.3286,  0.2792, -0.2167, -0.0550, -0.1119,  0.1219, -0.1079,\n",
       "                        0.0065,  0.1527,  0.0295,  0.0201, -0.3875],\n",
       "                      [-0.0400,  0.0996, -0.1066,  0.2080,  0.0795, -0.0491,  0.2943,  0.0130,\n",
       "                       -0.2049, -0.1172, -0.4779, -0.1431, -0.2641]])),\n",
       "             ('hidden.0.bias',\n",
       "              tensor([0.5095, 0.6903, 0.0292, 0.6862, 0.6033, 0.1996, 0.1628, 0.2352, 0.4740,\n",
       "                      0.5783])),\n",
       "             ('hidden.2.weight',\n",
       "              tensor([[ 0.3870,  0.6247, -0.1095,  0.7000,  0.5635,  0.1839,  0.4257,  0.4556,\n",
       "                        0.5490,  0.6613],\n",
       "                      [-0.0532,  0.1185,  0.2477, -0.0891,  0.1733,  0.1214,  0.1533, -0.3114,\n",
       "                       -0.2550, -0.2314],\n",
       "                      [-0.0147, -0.2961, -0.2191,  0.0740,  0.0457, -0.0215, -0.2275, -0.0287,\n",
       "                        0.1049, -0.2108],\n",
       "                      [ 0.4155, -0.0042, -0.0237,  0.4821,  0.4837,  0.2267,  0.1991,  0.4937,\n",
       "                        0.0557,  0.3578],\n",
       "                      [ 0.3635,  0.4461,  0.1241,  0.5431,  0.3906,  0.3664, -0.2037,  0.2606,\n",
       "                        0.3286,  0.2435],\n",
       "                      [ 0.0637, -0.0861, -0.0241,  0.0623, -0.0728, -0.0439,  0.2293, -0.0495,\n",
       "                        0.1917, -0.1229],\n",
       "                      [ 0.1789,  0.3942,  0.1211,  0.2544,  0.4588,  0.4288, -0.2441,  0.4428,\n",
       "                        0.4583, -0.0362],\n",
       "                      [ 0.4153,  0.5448, -0.2150,  0.4264,  0.2446,  0.4594,  0.2868,  0.2296,\n",
       "                        0.0601,  0.0654],\n",
       "                      [ 0.1699,  0.0300, -0.0507,  0.2964, -0.1284, -0.3054, -0.2768,  0.0160,\n",
       "                       -0.2428,  0.1161],\n",
       "                      [ 0.2152, -0.2429,  0.0949, -0.1396, -0.2229, -0.2386,  0.1617,  0.3344,\n",
       "                       -0.0705,  0.2802]])),\n",
       "             ('hidden.2.bias',\n",
       "              tensor([ 0.7547, -0.3110, -0.1098,  0.5684,  0.8353, -0.0652,  0.6535,  0.8784,\n",
       "                      -0.3074,  0.0643])),\n",
       "             ('regression.weight',\n",
       "              tensor([[ 1.6618, -0.2648, -0.1696,  1.0145,  1.2928, -0.1034,  1.0546,  1.2360,\n",
       "                        0.0478,  0.3399]])),\n",
       "             ('regression.bias', tensor([1.4190]))])"
      ]
     },
     "execution_count": 11,
     "metadata": {},
     "output_type": "execute_result"
    }
   ],
   "source": [
    "mlp2load.state_dict()"
   ]
  },
  {
   "cell_type": "markdown",
   "id": "09610e7f",
   "metadata": {},
   "source": [
    "可以看到，模型保存不光保存了模型结构，连模型参数也一起作了保存"
   ]
  },
  {
   "cell_type": "markdown",
   "id": "a56e497a",
   "metadata": {},
   "source": [
    "方法二：只保存模型的参数"
   ]
  },
  {
   "cell_type": "code",
   "execution_count": null,
   "id": "a904481d",
   "metadata": {},
   "outputs": [],
   "source": [
    "torch.save(mlp2.state_dict(), './models/mlp2_param.pkl')"
   ]
  },
  {
   "cell_type": "code",
   "execution_count": null,
   "id": "b9098f6f",
   "metadata": {},
   "outputs": [],
   "source": [
    "mlp2load2 = torch.load('./models/mlp2_param.pkl')"
   ]
  },
  {
   "cell_type": "code",
   "execution_count": null,
   "id": "d513cc43",
   "metadata": {},
   "outputs": [],
   "source": [
    "mlp2load2"
   ]
  },
  {
   "cell_type": "code",
   "execution_count": null,
   "id": "4dadd402",
   "metadata": {},
   "outputs": [],
   "source": []
  }
 ],
 "metadata": {
  "kernelspec": {
   "display_name": "Python pytorch",
   "language": "python",
   "name": "pytorch"
  },
  "language_info": {
   "codemirror_mode": {
    "name": "ipython",
    "version": 3
   },
   "file_extension": ".py",
   "mimetype": "text/x-python",
   "name": "python",
   "nbconvert_exporter": "python",
   "pygments_lexer": "ipython3",
   "version": "3.8.8"
  }
 },
 "nbformat": 4,
 "nbformat_minor": 5
}

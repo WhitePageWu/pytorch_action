{
 "cells": [
  {
   "cell_type": "markdown",
   "id": "6089c6ef",
   "metadata": {},
   "source": [
    "# 梯度下降算法 #"
   ]
  },
  {
   "cell_type": "code",
   "execution_count": 1,
   "id": "13d42814",
   "metadata": {},
   "outputs": [],
   "source": [
    "import numpy as np\n",
    "import matplotlib.pyplot as plt"
   ]
  },
  {
   "cell_type": "markdown",
   "id": "de054f11",
   "metadata": {},
   "source": [
    "最小二乘法计算损失"
   ]
  },
  {
   "cell_type": "code",
   "execution_count": 2,
   "id": "13d8e1b7",
   "metadata": {},
   "outputs": [],
   "source": [
    "def compute_error_for_line_given_points(b, w, points):\n",
    "    N = float(len(points))\n",
    "    loss = 0\n",
    "    for i in range(len(points)):\n",
    "        x = points[i,0]\n",
    "        y = points[i,1]\n",
    "        loss += (y -(w*x+b))**2\n",
    "    return loss/N"
   ]
  },
  {
   "cell_type": "code",
   "execution_count": 3,
   "id": "1467375a",
   "metadata": {},
   "outputs": [],
   "source": [
    "def step_gradient(b,w,points,learnrate):\n",
    "    b_gradient = 0\n",
    "    w_gradient = 0\n",
    "    N = float(len(points))\n",
    "    for i in range(len(points)):\n",
    "        x = points[i,0]\n",
    "        y = points[i,1]\n",
    "        b_gradient += -(2/N)*(y-(w*x+b))\n",
    "        w_gradient += -(2/N)*2*(y-(w*x+b))\n",
    "    b_new = b - learnrate*b_gradient\n",
    "    w_new = w - learnrate*w_gradient\n",
    "    return b_new,w_new"
   ]
  },
  {
   "cell_type": "code",
   "execution_count": 5,
   "id": "201617e0",
   "metadata": {},
   "outputs": [],
   "source": [
    "def gradient_descent_runner(points,b,w,lr,epoch):\n",
    "    for i in range(epoch):\n",
    "        b,w = step_gradient(b,w,points,lr)\n",
    "        if i == int(epoch)/8:\n",
    "            showData(b,w,points)\n",
    "    return b,w"
   ]
  },
  {
   "cell_type": "code",
   "execution_count": 6,
   "id": "618d252e",
   "metadata": {},
   "outputs": [],
   "source": [
    "def showData(b,w,points):\n",
    "    pointsArr = np.transpose(points)\n",
    "    x = pointsArr[0]\n",
    "    y = pointsArr[1]\n",
    "    xmin, xmax = np.min(x),np.max(x)\n",
    "    lx = np.linspace(xmin,xmax,100)\n",
    "    ly = w*lx+b\n",
    "    plt.scatter(x,y)\n",
    "    plt.plot(lx,ly,'-r')\n",
    "    plt.show()"
   ]
  },
  {
   "cell_type": "code",
   "execution_count": 7,
   "id": "7600495e",
   "metadata": {},
   "outputs": [],
   "source": [
    "def run():\n",
    "    points = np.genfromtxt('data.csv',delimiter=',')\n",
    "    learningRates = 0.0001\n",
    "    initial_w = 0\n",
    "    initial_b = 0\n",
    "    print(compute_error_for_line_given_points(initial_b,initial_w,points))\n",
    "    b,w = gradient_descent_runner(points,initial_b,initial_w,0.0001,1000)\n",
    "    print(b,w)\n",
    "    showData(b,w,points)\n",
    "    print(compute_error_for_line_given_points(b,w,points))"
   ]
  },
  {
   "cell_type": "code",
   "execution_count": 8,
   "id": "7343df93",
   "metadata": {},
   "outputs": [
    {
     "name": "stdout",
     "output_type": "stream",
     "text": [
      "5565.107834483211\n"
     ]
    },
    {
     "data": {
      "image/png": "[encoded data removed]",
      "text/plain": [
       "<Figure size 432x288 with 1 Axes>"
      ]
     },
     "metadata": {
      "needs_background": "light"
     },
     "output_type": "display_data"
    },
    {
     "name": "stdout",
     "output_type": "stream",
     "text": [
      "0.7353163111779993 1.4706326223559987\n"
     ]
    },
    {
     "data": {
      "image/png": "[encoded data removed]",
      "text/plain": [
       "<Figure size 432x288 with 1 Axes>"
      ]
     },
     "metadata": {
      "needs_background": "light"
     },
     "output_type": "display_data"
    },
    {
     "name": "stdout",
     "output_type": "stream",
     "text": [
      "112.32289485932304\n"
     ]
    }
   ],
   "source": [
    "run()"
   ]
  },
  {
   "cell_type": "code",
   "execution_count": 18,
   "id": "c972a587",
   "metadata": {},
   "outputs": [
    {
     "name": "stdout",
     "output_type": "stream",
     "text": [
      "100\n",
      "100\n"
     ]
    }
   ],
   "source": [
    "import numpy as np\n",
    "points = np.genfromtxt('data.csv',delimiter=',')\n",
    "from sklearn.linear_model import LinearRegression\n",
    "X = points[:,0]\n",
    "Y = points[:,1]\n",
    "lin_reg = LinearRegression()\n",
    "print(len(X))\n",
    "print(len(Y))"
   ]
  },
  {
   "cell_type": "code",
   "execution_count": null,
   "id": "88c76495",
   "metadata": {},
   "outputs": [],
   "source": []
  }
 ],
 "metadata": {
  "kernelspec": {
   "display_name": "Python sklearn",
   "language": "python",
   "name": "sklearn"
  },
  "language_info": {
   "codemirror_mode": {
    "name": "ipython",
    "version": 3
   },
   "file_extension": ".py",
   "mimetype": "text/x-python",
   "name": "python",
   "nbconvert_exporter": "python",
   "pygments_lexer": "ipython3",
   "version": "3.9.5"
  }
 },
 "nbformat": 4,
 "nbformat_minor": 5
}

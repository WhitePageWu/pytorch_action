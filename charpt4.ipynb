{
 "cells": [
  {
   "cell_type": "code",
   "execution_count": 1,
   "id": "16be5b5b",
   "metadata": {},
   "outputs": [],
   "source": [
    "import torch\n",
    "import torch.nn as nn\n",
    "import torchvision\n",
    "import torchvision.utils as vutils\n",
    "import torch.optim as optim\n",
    "import torch.utils.data as Data\n",
    "from sklearn.metrics import accuracy_score\n",
    "import matplotlib.pyplot as plt"
   ]
  },
  {
   "cell_type": "markdown",
   "id": "8467a9ae",
   "metadata": {},
   "source": [
    "下载并加载数据集"
   ]
  },
  {
   "cell_type": "code",
   "execution_count": 4,
   "id": "20ac450d",
   "metadata": {
    "scrolled": false
   },
   "outputs": [
    {
     "name": "stdout",
     "output_type": "stream",
     "text": [
      "torch.Size([10000])\n"
     ]
    }
   ],
   "source": [
    "train_data = torchvision.datasets.MNIST(\n",
    "    root = './datasets/MNIST',\n",
    "    train = True,\n",
    "    transform = torchvision.transforms.ToTensor(),\n",
    "    download = True,\n",
    ")\n",
    "\n",
    "train_loader = Data.DataLoader(\n",
    "    dataset = train_data,\n",
    "    batch_size = 128,\n",
    "    shuffle = True,\n",
    "    num_workers = 1,\n",
    ")\n",
    "\n",
    "test_data = torchvision.datasets.MNIST(\n",
    "    root = './datasets/MNIST',\n",
    "    train = False,\n",
    "    transform = torchvision.transforms.ToTensor(),\n",
    "    download = False,\n",
    ")\n",
    "test_data_x = test_data.data.type(torch.FloatTensor) / 255.0\n",
    "test_data_x = torch.unsqueeze(test_data_x, dim = 1)\n",
    "test_data_y = test_data.targets\n",
    "print(test_data_y.shape)"
   ]
  },
  {
   "cell_type": "markdown",
   "id": "d657e913",
   "metadata": {},
   "source": [
    "查看数据集"
   ]
  },
  {
   "cell_type": "code",
   "execution_count": 5,
   "id": "dd6b9d15",
   "metadata": {
    "scrolled": true
   },
   "outputs": [
    {
     "name": "stdout",
     "output_type": "stream",
     "text": [
      "torch.Size([128, 1, 28, 28])\n",
      "torch.Size([128])\n"
     ]
    }
   ],
   "source": [
    "for epoch, (data, target) in enumerate(train_loader):\n",
    "    if epoch > 0:\n",
    "        break\n",
    "    print(data.shape)\n",
    "    print(target.shape)"
   ]
  },
  {
   "cell_type": "markdown",
   "id": "d43fa407",
   "metadata": {},
   "source": [
    "定义网络"
   ]
  },
  {
   "cell_type": "code",
   "execution_count": 6,
   "id": "946565c7",
   "metadata": {},
   "outputs": [],
   "source": [
    "class ConvNet(nn.Module):\n",
    "    def __init__(self):\n",
    "        super(ConvNet, self).__init__()\n",
    "        #定义第一个卷积层\n",
    "        self.conv1 = nn.Sequential(\n",
    "            nn.Conv2d(in_channels = 1,\n",
    "                      out_channels = 16,\n",
    "                      kernel_size = 3,\n",
    "                      stride = 1,\n",
    "                      padding = 1,\n",
    "            ),\n",
    "            nn.ReLU(),\n",
    "            nn.AvgPool2d(\n",
    "                kernel_size = 2,\n",
    "                stride = 2,\n",
    "            ),\n",
    "        )\n",
    "        #定义第二个卷积层\n",
    "        self.conv2 = nn.Sequential(\n",
    "            nn.Conv2d(16, 32, 3, 1, 1),\n",
    "            nn.ReLU(),\n",
    "            nn.MaxPool2d(2,2)\n",
    "        )\n",
    "        #定义第第一个全连接层\n",
    "        self.fc = nn.Sequential(\n",
    "            nn.Linear(\n",
    "                in_features = 32*7*7,\n",
    "                out_features = 128,\n",
    "            ),\n",
    "            nn.ReLU(),\n",
    "            nn.Linear(128, 64),\n",
    "            nn.ReLU(),\n",
    "        )\n",
    "        self.out = nn.Linear(64, 10)\n",
    "    def forward(self,x):\n",
    "        x = self.conv1(x)\n",
    "        x = self.conv2(x)\n",
    "        x = x.view(x.size(0), -1)\n",
    "        x = self.fc(x)\n",
    "        output = self.out(x)\n",
    "        return output"
   ]
  },
  {
   "cell_type": "code",
   "execution_count": 7,
   "id": "09b63b8f",
   "metadata": {
    "scrolled": true
   },
   "outputs": [
    {
     "name": "stdout",
     "output_type": "stream",
     "text": [
      "ConvNet(\n",
      "  (conv1): Sequential(\n",
      "    (0): Conv2d(1, 16, kernel_size=(3, 3), stride=(1, 1), padding=(1, 1))\n",
      "    (1): ReLU()\n",
      "    (2): AvgPool2d(kernel_size=2, stride=2, padding=0)\n",
      "  )\n",
      "  (conv2): Sequential(\n",
      "    (0): Conv2d(16, 32, kernel_size=(3, 3), stride=(1, 1), padding=(1, 1))\n",
      "    (1): ReLU()\n",
      "    (2): MaxPool2d(kernel_size=2, stride=2, padding=0, dilation=1, ceil_mode=False)\n",
      "  )\n",
      "  (fc): Sequential(\n",
      "    (0): Linear(in_features=1568, out_features=128, bias=True)\n",
      "    (1): ReLU()\n",
      "    (2): Linear(in_features=128, out_features=64, bias=True)\n",
      "    (3): ReLU()\n",
      "  )\n",
      "  (out): Linear(in_features=64, out_features=10, bias=True)\n",
      ")\n"
     ]
    }
   ],
   "source": [
    "net = ConvNet()\n",
    "print(net)"
   ]
  },
  {
   "cell_type": "markdown",
   "id": "b6aa2ff9",
   "metadata": {},
   "source": [
    "PyTorchViz库可视化网络结构"
   ]
  },
  {
   "cell_type": "code",
   "execution_count": 8,
   "id": "23d652bc",
   "metadata": {},
   "outputs": [
    {
     "ename": "ModuleNotFoundError",
     "evalue": "No module named 'torchviz'",
     "output_type": "error",
     "traceback": [
      "\u001b[1;31m---------------------------------------------------------------------------\u001b[0m",
      "\u001b[1;31mModuleNotFoundError\u001b[0m                       Traceback (most recent call last)",
      "\u001b[1;32m<ipython-input-8-8decfb467c14>\u001b[0m in \u001b[0;36m<module>\u001b[1;34m\u001b[0m\n\u001b[1;32m----> 1\u001b[1;33m \u001b[1;32mfrom\u001b[0m \u001b[0mtorchviz\u001b[0m \u001b[1;32mimport\u001b[0m \u001b[0mmake_dot\u001b[0m\u001b[1;33m\u001b[0m\u001b[1;33m\u001b[0m\u001b[0m\n\u001b[0m\u001b[0;32m      2\u001b[0m \u001b[0mx\u001b[0m \u001b[1;33m=\u001b[0m \u001b[0mtorch\u001b[0m\u001b[1;33m.\u001b[0m\u001b[0mrandn\u001b[0m\u001b[1;33m(\u001b[0m\u001b[1;36m1\u001b[0m\u001b[1;33m,\u001b[0m \u001b[1;36m1\u001b[0m\u001b[1;33m,\u001b[0m \u001b[1;36m28\u001b[0m\u001b[1;33m,\u001b[0m \u001b[1;36m28\u001b[0m\u001b[1;33m)\u001b[0m\u001b[1;33m.\u001b[0m\u001b[0mrequires_grad_\u001b[0m\u001b[1;33m(\u001b[0m\u001b[1;32mTrue\u001b[0m\u001b[1;33m)\u001b[0m\u001b[1;33m\u001b[0m\u001b[1;33m\u001b[0m\u001b[0m\n\u001b[0;32m      3\u001b[0m \u001b[0my\u001b[0m \u001b[1;33m=\u001b[0m \u001b[0mnet\u001b[0m\u001b[1;33m(\u001b[0m\u001b[0mx\u001b[0m\u001b[1;33m)\u001b[0m\u001b[1;33m\u001b[0m\u001b[1;33m\u001b[0m\u001b[0m\n\u001b[0;32m      4\u001b[0m \u001b[0mMyConvnetvis\u001b[0m \u001b[1;33m=\u001b[0m \u001b[0mmake_dot\u001b[0m\u001b[1;33m(\u001b[0m\u001b[0my\u001b[0m\u001b[1;33m,\u001b[0m \u001b[0mparams\u001b[0m \u001b[1;33m=\u001b[0m \u001b[0mdict\u001b[0m\u001b[1;33m(\u001b[0m\u001b[0mlist\u001b[0m\u001b[1;33m(\u001b[0m\u001b[0mnet\u001b[0m\u001b[1;33m.\u001b[0m\u001b[0mnamed_parameters\u001b[0m\u001b[1;33m(\u001b[0m\u001b[1;33m)\u001b[0m\u001b[1;33m)\u001b[0m \u001b[1;33m+\u001b[0m \u001b[1;33m[\u001b[0m\u001b[1;33m(\u001b[0m\u001b[1;34m'x'\u001b[0m\u001b[1;33m,\u001b[0m \u001b[0mx\u001b[0m\u001b[1;33m)\u001b[0m\u001b[1;33m]\u001b[0m\u001b[1;33m)\u001b[0m\u001b[1;33m)\u001b[0m\u001b[1;33m\u001b[0m\u001b[1;33m\u001b[0m\u001b[0m\n\u001b[0;32m      5\u001b[0m \u001b[0mMyConvnetvis\u001b[0m\u001b[1;33m.\u001b[0m\u001b[0mformat\u001b[0m \u001b[1;33m=\u001b[0m \u001b[1;34m'png'\u001b[0m\u001b[1;33m\u001b[0m\u001b[1;33m\u001b[0m\u001b[0m\n",
      "\u001b[1;31mModuleNotFoundError\u001b[0m: No module named 'torchviz'"
     ]
    }
   ],
   "source": [
    "from torchviz import make_dot\n",
    "x = torch.randn(1, 1, 28, 28).requires_grad_(True)\n",
    "y = net(x)\n",
    "MyConvnetvis = make_dot(y, params = dict(list(net.named_parameters()) + [('x', x)]))\n",
    "MyConvnetvis.format = 'png'\n",
    "MyConvnetvis.directory = './nets/charpt4/net_vis'\n",
    "MyConvnetvis.view()"
   ]
  },
  {
   "cell_type": "markdown",
   "id": "ea55e98c",
   "metadata": {},
   "source": [
    "定义优化器"
   ]
  },
  {
   "cell_type": "code",
   "execution_count": 9,
   "id": "76f0b842",
   "metadata": {},
   "outputs": [
    {
     "name": "stderr",
     "output_type": "stream",
     "text": [
      "C:\\developer\\Anaconda\\envs\\pytorch\\lib\\site-packages\\torch\\nn\\functional.py:718: UserWarning: Named tensors and all their associated APIs are an experimental feature and subject to change. Please do not use them for anything important until they are released as stable. (Triggered internally at  ..\\c10/core/TensorImpl.h:1156.)\n",
      "  return torch.max_pool2d(input, kernel_size, stride, padding, dilation, ceil_mode)\n"
     ]
    },
    {
     "name": "stdout",
     "output_type": "stream",
     "text": [
      "Train Epoch:0[0/60000 (0%)]\tloss:2.304132\n",
      "Train Epoch:0[6400/60000 (11%)]\tloss:2.307573\n",
      "Train Epoch:0[12800/60000 (21%)]\tloss:2.311388\n",
      "Train Epoch:0[19200/60000 (32%)]\tloss:2.307529\n",
      "Train Epoch:0[25600/60000 (43%)]\tloss:2.307341\n",
      "Train Epoch:0[32000/60000 (53%)]\tloss:2.308856\n",
      "Train Epoch:0[38400/60000 (64%)]\tloss:2.308000\n",
      "Train Epoch:0[44800/60000 (75%)]\tloss:2.310258\n",
      "Train Epoch:0[51200/60000 (85%)]\tloss:2.301616\n",
      "Train Epoch:0[57600/60000 (96%)]\tloss:2.306718\n",
      "Train Epoch:1[0/60000 (0%)]\tloss:2.297678\n",
      "Train Epoch:1[6400/60000 (11%)]\tloss:2.310760\n",
      "Train Epoch:1[12800/60000 (21%)]\tloss:2.306643\n",
      "Train Epoch:1[19200/60000 (32%)]\tloss:2.297122\n",
      "Train Epoch:1[25600/60000 (43%)]\tloss:2.308167\n",
      "Train Epoch:1[32000/60000 (53%)]\tloss:2.302778\n",
      "Train Epoch:1[38400/60000 (64%)]\tloss:2.304413\n",
      "Train Epoch:1[44800/60000 (75%)]\tloss:2.311292\n",
      "Train Epoch:1[51200/60000 (85%)]\tloss:2.308395\n",
      "Train Epoch:1[57600/60000 (96%)]\tloss:2.298121\n",
      "Train Epoch:2[0/60000 (0%)]\tloss:2.309751\n",
      "Train Epoch:2[6400/60000 (11%)]\tloss:2.311048\n",
      "Train Epoch:2[12800/60000 (21%)]\tloss:2.304447\n",
      "Train Epoch:2[19200/60000 (32%)]\tloss:2.305419\n",
      "Train Epoch:2[25600/60000 (43%)]\tloss:2.302547\n",
      "Train Epoch:2[32000/60000 (53%)]\tloss:2.301616\n",
      "Train Epoch:2[38400/60000 (64%)]\tloss:2.302481\n",
      "Train Epoch:2[44800/60000 (75%)]\tloss:2.311856\n",
      "Train Epoch:2[51200/60000 (85%)]\tloss:2.310526\n",
      "Train Epoch:2[57600/60000 (96%)]\tloss:2.308442\n",
      "Train Epoch:3[0/60000 (0%)]\tloss:2.300401\n",
      "Train Epoch:3[6400/60000 (11%)]\tloss:2.299177\n",
      "Train Epoch:3[12800/60000 (21%)]\tloss:2.305750\n",
      "Train Epoch:3[19200/60000 (32%)]\tloss:2.300439\n",
      "Train Epoch:3[25600/60000 (43%)]\tloss:2.307643\n",
      "Train Epoch:3[32000/60000 (53%)]\tloss:2.302962\n",
      "Train Epoch:3[38400/60000 (64%)]\tloss:2.312078\n",
      "Train Epoch:3[44800/60000 (75%)]\tloss:2.306841\n",
      "Train Epoch:3[51200/60000 (85%)]\tloss:2.304304\n",
      "Train Epoch:3[57600/60000 (96%)]\tloss:2.303694\n",
      "Train Epoch:4[0/60000 (0%)]\tloss:2.304122\n",
      "Train Epoch:4[6400/60000 (11%)]\tloss:2.305639\n",
      "Train Epoch:4[12800/60000 (21%)]\tloss:2.301450\n",
      "Train Epoch:4[19200/60000 (32%)]\tloss:2.304178\n",
      "Train Epoch:4[25600/60000 (43%)]\tloss:2.304963\n",
      "Train Epoch:4[32000/60000 (53%)]\tloss:2.308149\n",
      "Train Epoch:4[38400/60000 (64%)]\tloss:2.302423\n",
      "Train Epoch:4[44800/60000 (75%)]\tloss:2.308350\n",
      "Train Epoch:4[51200/60000 (85%)]\tloss:2.306378\n",
      "Train Epoch:4[57600/60000 (96%)]\tloss:2.300534\n",
      "Train Epoch:5[0/60000 (0%)]\tloss:2.300624\n",
      "Train Epoch:5[6400/60000 (11%)]\tloss:2.302348\n",
      "Train Epoch:5[12800/60000 (21%)]\tloss:2.298105\n",
      "Train Epoch:5[19200/60000 (32%)]\tloss:2.298804\n",
      "Train Epoch:5[25600/60000 (43%)]\tloss:2.311778\n",
      "Train Epoch:5[32000/60000 (53%)]\tloss:2.307593\n",
      "Train Epoch:5[38400/60000 (64%)]\tloss:2.305197\n",
      "Train Epoch:5[44800/60000 (75%)]\tloss:2.300922\n",
      "Train Epoch:5[51200/60000 (85%)]\tloss:2.305315\n",
      "Train Epoch:5[57600/60000 (96%)]\tloss:2.310889\n",
      "Train Epoch:6[0/60000 (0%)]\tloss:2.304232\n",
      "Train Epoch:6[6400/60000 (11%)]\tloss:2.307139\n",
      "Train Epoch:6[12800/60000 (21%)]\tloss:2.301480\n",
      "Train Epoch:6[19200/60000 (32%)]\tloss:2.298477\n",
      "Train Epoch:6[25600/60000 (43%)]\tloss:2.303554\n",
      "Train Epoch:6[32000/60000 (53%)]\tloss:2.307915\n",
      "Train Epoch:6[38400/60000 (64%)]\tloss:2.303760\n",
      "Train Epoch:6[44800/60000 (75%)]\tloss:2.304074\n",
      "Train Epoch:6[51200/60000 (85%)]\tloss:2.307299\n",
      "Train Epoch:6[57600/60000 (96%)]\tloss:2.308993\n",
      "Train Epoch:7[0/60000 (0%)]\tloss:2.306347\n",
      "Train Epoch:7[6400/60000 (11%)]\tloss:2.310951\n",
      "Train Epoch:7[12800/60000 (21%)]\tloss:2.309035\n",
      "Train Epoch:7[19200/60000 (32%)]\tloss:2.311247\n",
      "Train Epoch:7[25600/60000 (43%)]\tloss:2.312699\n",
      "Train Epoch:7[32000/60000 (53%)]\tloss:2.310171\n",
      "Train Epoch:7[38400/60000 (64%)]\tloss:2.310516\n",
      "Train Epoch:7[44800/60000 (75%)]\tloss:2.312954\n",
      "Train Epoch:7[51200/60000 (85%)]\tloss:2.303693\n",
      "Train Epoch:7[57600/60000 (96%)]\tloss:2.310124\n",
      "Train Epoch:8[0/60000 (0%)]\tloss:2.309048\n",
      "Train Epoch:8[6400/60000 (11%)]\tloss:2.301611\n",
      "Train Epoch:8[12800/60000 (21%)]\tloss:2.306052\n",
      "Train Epoch:8[19200/60000 (32%)]\tloss:2.307567\n",
      "Train Epoch:8[25600/60000 (43%)]\tloss:2.303675\n",
      "Train Epoch:8[32000/60000 (53%)]\tloss:2.309372\n",
      "Train Epoch:8[38400/60000 (64%)]\tloss:2.311362\n",
      "Train Epoch:8[44800/60000 (75%)]\tloss:2.305160\n",
      "Train Epoch:8[51200/60000 (85%)]\tloss:2.305781\n",
      "Train Epoch:8[57600/60000 (96%)]\tloss:2.310446\n",
      "Train Epoch:9[0/60000 (0%)]\tloss:2.315520\n",
      "Train Epoch:9[6400/60000 (11%)]\tloss:2.307690\n",
      "Train Epoch:9[12800/60000 (21%)]\tloss:2.302409\n",
      "Train Epoch:9[19200/60000 (32%)]\tloss:2.311414\n",
      "Train Epoch:9[25600/60000 (43%)]\tloss:2.303048\n",
      "Train Epoch:9[32000/60000 (53%)]\tloss:2.309793\n",
      "Train Epoch:9[38400/60000 (64%)]\tloss:2.307990\n",
      "Train Epoch:9[44800/60000 (75%)]\tloss:2.304195\n",
      "Train Epoch:9[51200/60000 (85%)]\tloss:2.305941\n",
      "Train Epoch:9[57600/60000 (96%)]\tloss:2.306261\n"
     ]
    }
   ],
   "source": [
    "optimizer = optim.Adam(net.parameters(), lr = 0.00003)\n",
    "criteon = nn.CrossEntropyLoss()\n",
    "epochs = 10\n",
    "for epoch in range(epochs):\n",
    "    for batch_idx, (data, target) in enumerate(train_loader):\n",
    "        output = net(data)\n",
    "        loss = criteon(output, target)\n",
    "        optimizer.zero_grad()\n",
    "        loss.backward()\n",
    "        optimizer.step\n",
    "        if batch_idx%50 == 0:\n",
    "            print('Train Epoch:{}[{}/{} ({:.0f}%)]\\tloss:{:.6f}'.format(epoch, batch_idx*len(data), len(train_loader.dataset),\n",
    "                                                                     100.*batch_idx/len(train_loader), loss.item()))\n",
    "        "
   ]
  },
  {
   "cell_type": "markdown",
   "id": "777261df",
   "metadata": {},
   "source": [
    "使用tensorboardX进行可视化"
   ]
  },
  {
   "cell_type": "code",
   "execution_count": 11,
   "id": "5c543021",
   "metadata": {},
   "outputs": [],
   "source": [
    "from tensorboardX import SummaryWriter\n",
    "SumWriter = SummaryWriter(log_dir = './vis/charpt4/log')\n",
    "optimizer = torch.optim.Adam(net.parameters(), lr = 0.0003)\n",
    "criteon = nn.CrossEntropyLoss()\n",
    "train_loss = 0\n",
    "for epoch in range(5):\n",
    "    for step, (data, target) in enumerate(train_loader):\n",
    "        output = net(data)\n",
    "        loss = criteon(output, target)\n",
    "        optimizer.zero_grad()\n",
    "        loss.backward()\n",
    "        optimizer.step()\n",
    "        train_loss = loss + train_loss\n",
    "        #计算迭代次数\n",
    "        niter = epoch * len(train_loader) + step +1\n",
    "        if niter % 100 == 0:\n",
    "            SumWriter.add_scalar('train_loss', train_loss.item()/niter, global_step = niter)\n",
    "            output = net(test_data_x)\n",
    "            _,pre_lab = torch.max(output, 1)\n",
    "            acc = accuracy_score(test_data_y, pre_lab)\n",
    "            SumWriter.add_scalar('test_acc', acc.item(), niter)\n",
    "            b_x_im = vutils.make_grid(data, nrow = 12)\n",
    "            SumWriter.add_image('train_image sample', b_x_im, niter)\n",
    "            for name, param in net.named_parameters():\n",
    "                SumWriter.add_histogram(name, param.data.numpy(), niter)"
   ]
  },
  {
   "cell_type": "markdown",
   "id": "4c952e2f",
   "metadata": {},
   "source": [
    "使用visdom可视化"
   ]
  },
  {
   "cell_type": "code",
   "execution_count": 13,
   "id": "3ba143d8",
   "metadata": {},
   "outputs": [],
   "source": [
    "from visdom import Visdom\n",
    "from sklearn.datasets import load_iris\n",
    "iris_x, iris_y = load_iris(return_X_y = True)"
   ]
  },
  {
   "cell_type": "code",
   "execution_count": 14,
   "id": "9b1318ed",
   "metadata": {},
   "outputs": [
    {
     "name": "stderr",
     "output_type": "stream",
     "text": [
      "WARNING:visdom:Setting up a new session...\n"
     ]
    },
    {
     "name": "stdout",
     "output_type": "stream",
     "text": [
      "Exception in user code:\n",
      "------------------------------------------------------------\n"
     ]
    },
    {
     "name": "stderr",
     "output_type": "stream",
     "text": [
      "Traceback (most recent call last):\n",
      "  File \"C:\\developer\\Anaconda\\envs\\pytorch\\lib\\site-packages\\urllib3\\connection.py\", line 169, in _new_conn\n",
      "    conn = connection.create_connection(\n",
      "  File \"C:\\developer\\Anaconda\\envs\\pytorch\\lib\\site-packages\\urllib3\\util\\connection.py\", line 96, in create_connection\n",
      "    raise err\n",
      "  File \"C:\\developer\\Anaconda\\envs\\pytorch\\lib\\site-packages\\urllib3\\util\\connection.py\", line 86, in create_connection\n",
      "    sock.connect(sa)\n",
      "ConnectionRefusedError: [WinError 10061] 由于目标计算机积极拒绝，无法连接。\n",
      "\n",
      "During handling of the above exception, another exception occurred:\n",
      "\n",
      "Traceback (most recent call last):\n",
      "  File \"C:\\developer\\Anaconda\\envs\\pytorch\\lib\\site-packages\\urllib3\\connectionpool.py\", line 699, in urlopen\n",
      "    httplib_response = self._make_request(\n",
      "  File \"C:\\developer\\Anaconda\\envs\\pytorch\\lib\\site-packages\\urllib3\\connectionpool.py\", line 394, in _make_request\n",
      "    conn.request(method, url, **httplib_request_kw)\n",
      "  File \"C:\\developer\\Anaconda\\envs\\pytorch\\lib\\site-packages\\urllib3\\connection.py\", line 234, in request\n",
      "    super(HTTPConnection, self).request(method, url, body=body, headers=headers)\n",
      "  File \"C:\\developer\\Anaconda\\envs\\pytorch\\lib\\http\\client.py\", line 1252, in request\n",
      "    self._send_request(method, url, body, headers, encode_chunked)\n",
      "  File \"C:\\developer\\Anaconda\\envs\\pytorch\\lib\\http\\client.py\", line 1298, in _send_request\n",
      "    self.endheaders(body, encode_chunked=encode_chunked)\n",
      "  File \"C:\\developer\\Anaconda\\envs\\pytorch\\lib\\http\\client.py\", line 1247, in endheaders\n",
      "    self._send_output(message_body, encode_chunked=encode_chunked)\n",
      "  File \"C:\\developer\\Anaconda\\envs\\pytorch\\lib\\http\\client.py\", line 1007, in _send_output\n",
      "    self.send(msg)\n",
      "  File \"C:\\developer\\Anaconda\\envs\\pytorch\\lib\\http\\client.py\", line 947, in send\n",
      "    self.connect()\n",
      "  File \"C:\\developer\\Anaconda\\envs\\pytorch\\lib\\site-packages\\urllib3\\connection.py\", line 200, in connect\n",
      "    conn = self._new_conn()\n",
      "  File \"C:\\developer\\Anaconda\\envs\\pytorch\\lib\\site-packages\\urllib3\\connection.py\", line 181, in _new_conn\n",
      "    raise NewConnectionError(\n",
      "urllib3.exceptions.NewConnectionError: <urllib3.connection.HTTPConnection object at 0x0000020F802530D0>: Failed to establish a new connection: [WinError 10061] 由于目标计算机积极拒绝，无法连接。\n",
      "\n",
      "During handling of the above exception, another exception occurred:\n",
      "\n",
      "Traceback (most recent call last):\n",
      "  File \"C:\\developer\\Anaconda\\envs\\pytorch\\lib\\site-packages\\requests\\adapters.py\", line 439, in send\n",
      "    resp = conn.urlopen(\n",
      "  File \"C:\\developer\\Anaconda\\envs\\pytorch\\lib\\site-packages\\urllib3\\connectionpool.py\", line 755, in urlopen\n",
      "    retries = retries.increment(\n",
      "  File \"C:\\developer\\Anaconda\\envs\\pytorch\\lib\\site-packages\\urllib3\\util\\retry.py\", line 574, in increment\n",
      "    raise MaxRetryError(_pool, url, error or ResponseError(cause))\n",
      "urllib3.exceptions.MaxRetryError: HTTPConnectionPool(host='localhost', port=8097): Max retries exceeded with url: /env/main (Caused by NewConnectionError('<urllib3.connection.HTTPConnection object at 0x0000020F802530D0>: Failed to establish a new connection: [WinError 10061] 由于目标计算机积极拒绝，无法连接。'))\n",
      "\n",
      "During handling of the above exception, another exception occurred:\n",
      "\n",
      "Traceback (most recent call last):\n",
      "  File \"C:\\developer\\Anaconda\\envs\\pytorch\\lib\\site-packages\\visdom\\__init__.py\", line 708, in _send\n",
      "    return self._handle_post(\n",
      "  File \"C:\\developer\\Anaconda\\envs\\pytorch\\lib\\site-packages\\visdom\\__init__.py\", line 677, in _handle_post\n",
      "    r = self.session.post(url, data=data)\n",
      "  File \"C:\\developer\\Anaconda\\envs\\pytorch\\lib\\site-packages\\requests\\sessions.py\", line 590, in post\n",
      "    return self.request('POST', url, data=data, json=json, **kwargs)\n",
      "  File \"C:\\developer\\Anaconda\\envs\\pytorch\\lib\\site-packages\\requests\\sessions.py\", line 542, in request\n",
      "    resp = self.send(prep, **send_kwargs)\n",
      "  File \"C:\\developer\\Anaconda\\envs\\pytorch\\lib\\site-packages\\requests\\sessions.py\", line 655, in send\n",
      "    r = adapter.send(request, **kwargs)\n",
      "  File \"C:\\developer\\Anaconda\\envs\\pytorch\\lib\\site-packages\\requests\\adapters.py\", line 516, in send\n",
      "    raise ConnectionError(e, request=request)\n",
      "requests.exceptions.ConnectionError: HTTPConnectionPool(host='localhost', port=8097): Max retries exceeded with url: /env/main (Caused by NewConnectionError('<urllib3.connection.HTTPConnection object at 0x0000020F802530D0>: Failed to establish a new connection: [WinError 10061] 由于目标计算机积极拒绝，无法连接。'))\n",
      "ERROR:visdom:[WinError 10061] 由于目标计算机积极拒绝，无法连接。\n",
      "ERROR:websocket:error from callback <function Visdom.setup_socket.<locals>.on_close at 0x0000020F802F2310>: on_close() takes 1 positional argument but 3 were given\n",
      "WARNING:visdom:Visdom python client failed to establish socket to get messages from the server. This feature is optional and can be disabled by initializing Visdom with `use_incoming_socket=False`, which will prevent waiting for this request to timeout.\n"
     ]
    },
    {
     "name": "stdout",
     "output_type": "stream",
     "text": [
      "Exception in user code:\n",
      "------------------------------------------------------------\n"
     ]
    },
    {
     "name": "stderr",
     "output_type": "stream",
     "text": [
      "Traceback (most recent call last):\n",
      "  File \"C:\\developer\\Anaconda\\envs\\pytorch\\lib\\site-packages\\urllib3\\connection.py\", line 169, in _new_conn\n",
      "    conn = connection.create_connection(\n",
      "  File \"C:\\developer\\Anaconda\\envs\\pytorch\\lib\\site-packages\\urllib3\\util\\connection.py\", line 96, in create_connection\n",
      "    raise err\n",
      "  File \"C:\\developer\\Anaconda\\envs\\pytorch\\lib\\site-packages\\urllib3\\util\\connection.py\", line 86, in create_connection\n",
      "    sock.connect(sa)\n",
      "ConnectionRefusedError: [WinError 10061] 由于目标计算机积极拒绝，无法连接。\n",
      "\n",
      "During handling of the above exception, another exception occurred:\n",
      "\n",
      "Traceback (most recent call last):\n",
      "  File \"C:\\developer\\Anaconda\\envs\\pytorch\\lib\\site-packages\\urllib3\\connectionpool.py\", line 699, in urlopen\n",
      "    httplib_response = self._make_request(\n",
      "  File \"C:\\developer\\Anaconda\\envs\\pytorch\\lib\\site-packages\\urllib3\\connectionpool.py\", line 394, in _make_request\n",
      "    conn.request(method, url, **httplib_request_kw)\n",
      "  File \"C:\\developer\\Anaconda\\envs\\pytorch\\lib\\site-packages\\urllib3\\connection.py\", line 234, in request\n",
      "    super(HTTPConnection, self).request(method, url, body=body, headers=headers)\n",
      "  File \"C:\\developer\\Anaconda\\envs\\pytorch\\lib\\http\\client.py\", line 1252, in request\n",
      "    self._send_request(method, url, body, headers, encode_chunked)\n",
      "  File \"C:\\developer\\Anaconda\\envs\\pytorch\\lib\\http\\client.py\", line 1298, in _send_request\n",
      "    self.endheaders(body, encode_chunked=encode_chunked)\n",
      "  File \"C:\\developer\\Anaconda\\envs\\pytorch\\lib\\http\\client.py\", line 1247, in endheaders\n",
      "    self._send_output(message_body, encode_chunked=encode_chunked)\n",
      "  File \"C:\\developer\\Anaconda\\envs\\pytorch\\lib\\http\\client.py\", line 1007, in _send_output\n",
      "    self.send(msg)\n",
      "  File \"C:\\developer\\Anaconda\\envs\\pytorch\\lib\\http\\client.py\", line 947, in send\n",
      "    self.connect()\n",
      "  File \"C:\\developer\\Anaconda\\envs\\pytorch\\lib\\site-packages\\urllib3\\connection.py\", line 200, in connect\n",
      "    conn = self._new_conn()\n",
      "  File \"C:\\developer\\Anaconda\\envs\\pytorch\\lib\\site-packages\\urllib3\\connection.py\", line 181, in _new_conn\n",
      "    raise NewConnectionError(\n",
      "urllib3.exceptions.NewConnectionError: <urllib3.connection.HTTPConnection object at 0x0000020F8023AD60>: Failed to establish a new connection: [WinError 10061] 由于目标计算机积极拒绝，无法连接。\n",
      "\n",
      "During handling of the above exception, another exception occurred:\n",
      "\n",
      "Traceback (most recent call last):\n",
      "  File \"C:\\developer\\Anaconda\\envs\\pytorch\\lib\\site-packages\\requests\\adapters.py\", line 439, in send\n",
      "    resp = conn.urlopen(\n",
      "  File \"C:\\developer\\Anaconda\\envs\\pytorch\\lib\\site-packages\\urllib3\\connectionpool.py\", line 755, in urlopen\n",
      "    retries = retries.increment(\n",
      "  File \"C:\\developer\\Anaconda\\envs\\pytorch\\lib\\site-packages\\urllib3\\util\\retry.py\", line 574, in increment\n",
      "    raise MaxRetryError(_pool, url, error or ResponseError(cause))\n",
      "urllib3.exceptions.MaxRetryError: HTTPConnectionPool(host='localhost', port=8097): Max retries exceeded with url: /events (Caused by NewConnectionError('<urllib3.connection.HTTPConnection object at 0x0000020F8023AD60>: Failed to establish a new connection: [WinError 10061] 由于目标计算机积极拒绝，无法连接。'))\n",
      "\n",
      "During handling of the above exception, another exception occurred:\n",
      "\n",
      "Traceback (most recent call last):\n",
      "  File \"C:\\developer\\Anaconda\\envs\\pytorch\\lib\\site-packages\\visdom\\__init__.py\", line 708, in _send\n",
      "    return self._handle_post(\n",
      "  File \"C:\\developer\\Anaconda\\envs\\pytorch\\lib\\site-packages\\visdom\\__init__.py\", line 677, in _handle_post\n",
      "    r = self.session.post(url, data=data)\n",
      "  File \"C:\\developer\\Anaconda\\envs\\pytorch\\lib\\site-packages\\requests\\sessions.py\", line 590, in post\n",
      "    return self.request('POST', url, data=data, json=json, **kwargs)\n",
      "  File \"C:\\developer\\Anaconda\\envs\\pytorch\\lib\\site-packages\\requests\\sessions.py\", line 542, in request\n",
      "    resp = self.send(prep, **send_kwargs)\n",
      "  File \"C:\\developer\\Anaconda\\envs\\pytorch\\lib\\site-packages\\requests\\sessions.py\", line 655, in send\n",
      "    r = adapter.send(request, **kwargs)\n",
      "  File \"C:\\developer\\Anaconda\\envs\\pytorch\\lib\\site-packages\\requests\\adapters.py\", line 516, in send\n",
      "    raise ConnectionError(e, request=request)\n",
      "requests.exceptions.ConnectionError: HTTPConnectionPool(host='localhost', port=8097): Max retries exceeded with url: /events (Caused by NewConnectionError('<urllib3.connection.HTTPConnection object at 0x0000020F8023AD60>: Failed to establish a new connection: [WinError 10061] 由于目标计算机积极拒绝，无法连接。'))\n"
     ]
    },
    {
     "name": "stdout",
     "output_type": "stream",
     "text": [
      "Exception in user code:\n",
      "------------------------------------------------------------\n"
     ]
    },
    {
     "name": "stderr",
     "output_type": "stream",
     "text": [
      "Traceback (most recent call last):\n",
      "  File \"C:\\developer\\Anaconda\\envs\\pytorch\\lib\\site-packages\\urllib3\\connection.py\", line 169, in _new_conn\n",
      "    conn = connection.create_connection(\n",
      "  File \"C:\\developer\\Anaconda\\envs\\pytorch\\lib\\site-packages\\urllib3\\util\\connection.py\", line 96, in create_connection\n",
      "    raise err\n",
      "  File \"C:\\developer\\Anaconda\\envs\\pytorch\\lib\\site-packages\\urllib3\\util\\connection.py\", line 86, in create_connection\n",
      "    sock.connect(sa)\n",
      "ConnectionRefusedError: [WinError 10061] 由于目标计算机积极拒绝，无法连接。\n",
      "\n",
      "During handling of the above exception, another exception occurred:\n",
      "\n",
      "Traceback (most recent call last):\n",
      "  File \"C:\\developer\\Anaconda\\envs\\pytorch\\lib\\site-packages\\urllib3\\connectionpool.py\", line 699, in urlopen\n",
      "    httplib_response = self._make_request(\n",
      "  File \"C:\\developer\\Anaconda\\envs\\pytorch\\lib\\site-packages\\urllib3\\connectionpool.py\", line 394, in _make_request\n",
      "    conn.request(method, url, **httplib_request_kw)\n",
      "  File \"C:\\developer\\Anaconda\\envs\\pytorch\\lib\\site-packages\\urllib3\\connection.py\", line 234, in request\n",
      "    super(HTTPConnection, self).request(method, url, body=body, headers=headers)\n",
      "  File \"C:\\developer\\Anaconda\\envs\\pytorch\\lib\\http\\client.py\", line 1252, in request\n",
      "    self._send_request(method, url, body, headers, encode_chunked)\n",
      "  File \"C:\\developer\\Anaconda\\envs\\pytorch\\lib\\http\\client.py\", line 1298, in _send_request\n",
      "    self.endheaders(body, encode_chunked=encode_chunked)\n",
      "  File \"C:\\developer\\Anaconda\\envs\\pytorch\\lib\\http\\client.py\", line 1247, in endheaders\n",
      "    self._send_output(message_body, encode_chunked=encode_chunked)\n",
      "  File \"C:\\developer\\Anaconda\\envs\\pytorch\\lib\\http\\client.py\", line 1007, in _send_output\n",
      "    self.send(msg)\n",
      "  File \"C:\\developer\\Anaconda\\envs\\pytorch\\lib\\http\\client.py\", line 947, in send\n",
      "    self.connect()\n",
      "  File \"C:\\developer\\Anaconda\\envs\\pytorch\\lib\\site-packages\\urllib3\\connection.py\", line 200, in connect\n",
      "    conn = self._new_conn()\n",
      "  File \"C:\\developer\\Anaconda\\envs\\pytorch\\lib\\site-packages\\urllib3\\connection.py\", line 181, in _new_conn\n",
      "    raise NewConnectionError(\n",
      "urllib3.exceptions.NewConnectionError: <urllib3.connection.HTTPConnection object at 0x0000020F80253F10>: Failed to establish a new connection: [WinError 10061] 由于目标计算机积极拒绝，无法连接。\n",
      "\n",
      "During handling of the above exception, another exception occurred:\n",
      "\n",
      "Traceback (most recent call last):\n",
      "  File \"C:\\developer\\Anaconda\\envs\\pytorch\\lib\\site-packages\\requests\\adapters.py\", line 439, in send\n",
      "    resp = conn.urlopen(\n",
      "  File \"C:\\developer\\Anaconda\\envs\\pytorch\\lib\\site-packages\\urllib3\\connectionpool.py\", line 755, in urlopen\n",
      "    retries = retries.increment(\n",
      "  File \"C:\\developer\\Anaconda\\envs\\pytorch\\lib\\site-packages\\urllib3\\util\\retry.py\", line 574, in increment\n",
      "    raise MaxRetryError(_pool, url, error or ResponseError(cause))\n",
      "urllib3.exceptions.MaxRetryError: HTTPConnectionPool(host='localhost', port=8097): Max retries exceeded with url: /events (Caused by NewConnectionError('<urllib3.connection.HTTPConnection object at 0x0000020F80253F10>: Failed to establish a new connection: [WinError 10061] 由于目标计算机积极拒绝，无法连接。'))\n",
      "\n",
      "During handling of the above exception, another exception occurred:\n",
      "\n",
      "Traceback (most recent call last):\n",
      "  File \"C:\\developer\\Anaconda\\envs\\pytorch\\lib\\site-packages\\visdom\\__init__.py\", line 708, in _send\n",
      "    return self._handle_post(\n",
      "  File \"C:\\developer\\Anaconda\\envs\\pytorch\\lib\\site-packages\\visdom\\__init__.py\", line 677, in _handle_post\n",
      "    r = self.session.post(url, data=data)\n",
      "  File \"C:\\developer\\Anaconda\\envs\\pytorch\\lib\\site-packages\\requests\\sessions.py\", line 590, in post\n",
      "    return self.request('POST', url, data=data, json=json, **kwargs)\n",
      "  File \"C:\\developer\\Anaconda\\envs\\pytorch\\lib\\site-packages\\requests\\sessions.py\", line 542, in request\n",
      "    resp = self.send(prep, **send_kwargs)\n",
      "  File \"C:\\developer\\Anaconda\\envs\\pytorch\\lib\\site-packages\\requests\\sessions.py\", line 655, in send\n",
      "    r = adapter.send(request, **kwargs)\n",
      "  File \"C:\\developer\\Anaconda\\envs\\pytorch\\lib\\site-packages\\requests\\adapters.py\", line 516, in send\n",
      "    raise ConnectionError(e, request=request)\n",
      "requests.exceptions.ConnectionError: HTTPConnectionPool(host='localhost', port=8097): Max retries exceeded with url: /events (Caused by NewConnectionError('<urllib3.connection.HTTPConnection object at 0x0000020F80253F10>: Failed to establish a new connection: [WinError 10061] 由于目标计算机积极拒绝，无法连接。'))\n"
     ]
    },
    {
     "data": {
      "text/plain": [
       "False"
      ]
     },
     "execution_count": 14,
     "metadata": {},
     "output_type": "execute_result"
    }
   ],
   "source": [
    "vis = Visdom()\n",
    "vis.scatter(iris_x[:,0:2], Y = iris_y+1, win= 'windows1', env = 'main')\n",
    "vis.scatter(iris_x[:,0:3], Y = iris_y+1, win='3D 散点图', env='main', opts = dict(marersize = 4, xlabel = '特征1', ylabel = '特征2'))\n"
   ]
  },
  {
   "cell_type": "code",
   "execution_count": 24,
   "id": "d6cb2c4b",
   "metadata": {},
   "outputs": [
    {
     "ename": "AssertionError",
     "evalue": "X and Y should be the same shape",
     "output_type": "error",
     "traceback": [
      "\u001b[1;31m---------------------------------------------------------------------------\u001b[0m",
      "\u001b[1;31mAssertionError\u001b[0m                            Traceback (most recent call last)",
      "\u001b[1;32m<ipython-input-24-60178d871afc>\u001b[0m in \u001b[0;36m<module>\u001b[1;34m\u001b[0m\n\u001b[0;32m      5\u001b[0m \u001b[0mploty\u001b[0m \u001b[1;33m=\u001b[0m \u001b[0msigmoidy\u001b[0m\u001b[1;33m\u001b[0m\u001b[1;33m\u001b[0m\u001b[0m\n\u001b[0;32m      6\u001b[0m \u001b[0mplotx\u001b[0m \u001b[1;33m=\u001b[0m \u001b[0mx\u001b[0m\u001b[1;33m\u001b[0m\u001b[1;33m\u001b[0m\u001b[0m\n\u001b[1;32m----> 7\u001b[1;33m \u001b[0mvis\u001b[0m\u001b[1;33m.\u001b[0m\u001b[0mline\u001b[0m\u001b[1;33m(\u001b[0m\u001b[0mY\u001b[0m \u001b[1;33m=\u001b[0m \u001b[0mploty\u001b[0m\u001b[1;33m,\u001b[0m \u001b[0mX\u001b[0m\u001b[1;33m=\u001b[0m \u001b[0mplotx\u001b[0m\u001b[1;33m,\u001b[0m \u001b[0mwin\u001b[0m \u001b[1;33m=\u001b[0m \u001b[1;34m'line plot'\u001b[0m\u001b[1;33m,\u001b[0m \u001b[0menv\u001b[0m \u001b[1;33m=\u001b[0m\u001b[1;34m'main'\u001b[0m\u001b[1;33m,\u001b[0m \u001b[0mopts\u001b[0m \u001b[1;33m=\u001b[0m \u001b[0mdict\u001b[0m\u001b[1;33m(\u001b[0m\u001b[0mdash\u001b[0m \u001b[1;33m=\u001b[0m \u001b[0mnp\u001b[0m\u001b[1;33m.\u001b[0m\u001b[0marray\u001b[0m\u001b[1;33m(\u001b[0m\u001b[1;33m[\u001b[0m\u001b[1;34m'solid'\u001b[0m\u001b[1;33m]\u001b[0m\u001b[1;33m)\u001b[0m\u001b[1;33m,\u001b[0m \u001b[0mlegend\u001b[0m \u001b[1;33m=\u001b[0m \u001b[1;33m[\u001b[0m\u001b[1;34m'Sigmoid'\u001b[0m\u001b[1;33m]\u001b[0m\u001b[1;33m)\u001b[0m\u001b[1;33m)\u001b[0m\u001b[1;33m\u001b[0m\u001b[1;33m\u001b[0m\u001b[0m\n\u001b[0m",
      "\u001b[1;32mC:\\developer\\Anaconda\\envs\\pytorch\\lib\\site-packages\\visdom\\__init__.py\u001b[0m in \u001b[0;36mwrapped_f\u001b[1;34m(*args, **kwargs)\u001b[0m\n\u001b[0;32m    387\u001b[0m         \u001b[0margs\u001b[0m \u001b[1;33m=\u001b[0m \u001b[1;33m(\u001b[0m\u001b[0m_to_numpy\u001b[0m\u001b[1;33m(\u001b[0m\u001b[0marg\u001b[0m\u001b[1;33m)\u001b[0m \u001b[1;32mfor\u001b[0m \u001b[0marg\u001b[0m \u001b[1;32min\u001b[0m \u001b[0margs\u001b[0m\u001b[1;33m)\u001b[0m\u001b[1;33m\u001b[0m\u001b[1;33m\u001b[0m\u001b[0m\n\u001b[0;32m    388\u001b[0m         \u001b[0mkwargs\u001b[0m \u001b[1;33m=\u001b[0m \u001b[1;33m{\u001b[0m\u001b[0mk\u001b[0m\u001b[1;33m:\u001b[0m \u001b[0m_to_numpy\u001b[0m\u001b[1;33m(\u001b[0m\u001b[0mv\u001b[0m\u001b[1;33m)\u001b[0m \u001b[1;32mfor\u001b[0m \u001b[1;33m(\u001b[0m\u001b[0mk\u001b[0m\u001b[1;33m,\u001b[0m \u001b[0mv\u001b[0m\u001b[1;33m)\u001b[0m \u001b[1;32min\u001b[0m \u001b[0mkwargs\u001b[0m\u001b[1;33m.\u001b[0m\u001b[0mitems\u001b[0m\u001b[1;33m(\u001b[0m\u001b[1;33m)\u001b[0m\u001b[1;33m}\u001b[0m\u001b[1;33m\u001b[0m\u001b[1;33m\u001b[0m\u001b[0m\n\u001b[1;32m--> 389\u001b[1;33m         \u001b[1;32mreturn\u001b[0m \u001b[0mf\u001b[0m\u001b[1;33m(\u001b[0m\u001b[1;33m*\u001b[0m\u001b[0margs\u001b[0m\u001b[1;33m,\u001b[0m \u001b[1;33m**\u001b[0m\u001b[0mkwargs\u001b[0m\u001b[1;33m)\u001b[0m\u001b[1;33m\u001b[0m\u001b[1;33m\u001b[0m\u001b[0m\n\u001b[0m\u001b[0;32m    390\u001b[0m \u001b[1;33m\u001b[0m\u001b[0m\n\u001b[0;32m    391\u001b[0m     \u001b[1;32mreturn\u001b[0m \u001b[0mwrapped_f\u001b[0m\u001b[1;33m\u001b[0m\u001b[1;33m\u001b[0m\u001b[0m\n",
      "\u001b[1;32mC:\\developer\\Anaconda\\envs\\pytorch\\lib\\site-packages\\visdom\\__init__.py\u001b[0m in \u001b[0;36mline\u001b[1;34m(self, Y, X, win, env, opts, update, name)\u001b[0m\n\u001b[0;32m   1692\u001b[0m             \u001b[0mX\u001b[0m \u001b[1;33m=\u001b[0m \u001b[0mnp\u001b[0m\u001b[1;33m.\u001b[0m\u001b[0mtile\u001b[0m\u001b[1;33m(\u001b[0m\u001b[0mX\u001b[0m\u001b[1;33m,\u001b[0m \u001b[1;33m(\u001b[0m\u001b[0mY\u001b[0m\u001b[1;33m.\u001b[0m\u001b[0mshape\u001b[0m\u001b[1;33m[\u001b[0m\u001b[1;36m1\u001b[0m\u001b[1;33m]\u001b[0m\u001b[1;33m,\u001b[0m \u001b[1;36m1\u001b[0m\u001b[1;33m)\u001b[0m\u001b[1;33m)\u001b[0m\u001b[1;33m.\u001b[0m\u001b[0mtranspose\u001b[0m\u001b[1;33m(\u001b[0m\u001b[1;33m)\u001b[0m\u001b[1;33m\u001b[0m\u001b[1;33m\u001b[0m\u001b[0m\n\u001b[0;32m   1693\u001b[0m \u001b[1;33m\u001b[0m\u001b[0m\n\u001b[1;32m-> 1694\u001b[1;33m         \u001b[1;32massert\u001b[0m \u001b[0mX\u001b[0m\u001b[1;33m.\u001b[0m\u001b[0mshape\u001b[0m \u001b[1;33m==\u001b[0m \u001b[0mY\u001b[0m\u001b[1;33m.\u001b[0m\u001b[0mshape\u001b[0m\u001b[1;33m,\u001b[0m \u001b[1;34m'X and Y should be the same shape'\u001b[0m\u001b[1;33m\u001b[0m\u001b[1;33m\u001b[0m\u001b[0m\n\u001b[0m\u001b[0;32m   1695\u001b[0m \u001b[1;33m\u001b[0m\u001b[0m\n\u001b[0;32m   1696\u001b[0m         \u001b[0mopts\u001b[0m \u001b[1;33m=\u001b[0m \u001b[1;33m{\u001b[0m\u001b[1;33m}\u001b[0m \u001b[1;32mif\u001b[0m \u001b[0mopts\u001b[0m \u001b[1;32mis\u001b[0m \u001b[1;32mNone\u001b[0m \u001b[1;32melse\u001b[0m \u001b[0mopts\u001b[0m\u001b[1;33m\u001b[0m\u001b[1;33m\u001b[0m\u001b[0m\n",
      "\u001b[1;31mAssertionError\u001b[0m: X and Y should be the same shape"
     ]
    }
   ],
   "source": [
    "import numpy as np\n",
    "x = torch.linspace(-6, 6, 100).view((-1, 1))\n",
    "sigmoid = torch.nn.Sigmoid()\n",
    "sigmoidy = sigmoid(x)\n",
    "ploty = sigmoidy\n",
    "plotx = x\n",
    "vis.line(Y = ploty, X= plotx, win = 'line plot', env ='main', opts = dict(dash = np.array(['solid']), legend = ['Sigmoid']))"
   ]
  },
  {
   "cell_type": "code",
   "execution_count": null,
   "id": "59ef38e0",
   "metadata": {},
   "outputs": [],
   "source": []
  }
 ],
 "metadata": {
  "kernelspec": {
   "display_name": "Python pytorch",
   "language": "python",
   "name": "pytorch"
  },
  "language_info": {
   "codemirror_mode": {
    "name": "ipython",
    "version": 3
   },
   "file_extension": ".py",
   "mimetype": "text/x-python",
   "name": "python",
   "nbconvert_exporter": "python",
   "pygments_lexer": "ipython3",
   "version": "3.8.10"
  }
 },
 "nbformat": 4,
 "nbformat_minor": 5
}

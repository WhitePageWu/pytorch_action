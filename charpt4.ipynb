{
 "cells": [
  {
   "cell_type": "code",
   "execution_count": 8,
   "id": "16be5b5b",
   "metadata": {},
   "outputs": [],
   "source": [
    "import torch\n",
    "import torch.nn as nn\n",
    "import torchvision\n",
    "import torchvision.utils as vutils\n",
    "import torch.optim as optim\n",
    "import torch.utils.data as Data\n",
    "from sklearn.metrics import accuracy_score\n",
    "import matplotlib.pyplot as plt\n",
    "\n",
    "import numpy as np"
   ]
  },
  {
   "cell_type": "markdown",
   "id": "8467a9ae",
   "metadata": {},
   "source": [
    "下载并加载数据集"
   ]
  },
  {
   "cell_type": "code",
   "execution_count": 2,
   "id": "20ac450d",
   "metadata": {
    "scrolled": false
   },
   "outputs": [
    {
     "name": "stdout",
     "output_type": "stream",
     "text": [
      "torch.Size([10000])\n"
     ]
    }
   ],
   "source": [
    "train_data = torchvision.datasets.MNIST(\n",
    "    root = './datasets/MNIST',\n",
    "    train = True,\n",
    "    transform = torchvision.transforms.ToTensor(),\n",
    "    download = True,\n",
    ")\n",
    "\n",
    "train_loader = Data.DataLoader(\n",
    "    dataset = train_data,\n",
    "    batch_size = 128,\n",
    "    shuffle = True,\n",
    "    num_workers = 1,\n",
    ")\n",
    "\n",
    "test_data = torchvision.datasets.MNIST(\n",
    "    root = './datasets/MNIST',\n",
    "    train = False,\n",
    "    transform = torchvision.transforms.ToTensor(),\n",
    "    download = False,\n",
    ")\n",
    "test_data_x = test_data.data.type(torch.FloatTensor) / 255.0\n",
    "test_data_x = torch.unsqueeze(test_data_x, dim = 1)\n",
    "test_data_y = test_data.targets\n",
    "print(test_data_y.shape)"
   ]
  },
  {
   "cell_type": "markdown",
   "id": "d657e913",
   "metadata": {},
   "source": [
    "查看数据集"
   ]
  },
  {
   "cell_type": "code",
   "execution_count": 3,
   "id": "dd6b9d15",
   "metadata": {
    "scrolled": true
   },
   "outputs": [
    {
     "name": "stdout",
     "output_type": "stream",
     "text": [
      "torch.Size([128, 1, 28, 28])\n",
      "torch.Size([128])\n"
     ]
    }
   ],
   "source": [
    "for epoch, (data, target) in enumerate(train_loader):\n",
    "    if epoch > 0:\n",
    "        break\n",
    "    print(data.shape)\n",
    "    print(target.shape)"
   ]
  },
  {
   "cell_type": "markdown",
   "id": "d43fa407",
   "metadata": {},
   "source": [
    "定义网络"
   ]
  },
  {
   "cell_type": "code",
   "execution_count": 4,
   "id": "946565c7",
   "metadata": {},
   "outputs": [],
   "source": [
    "class ConvNet(nn.Module):\n",
    "    def __init__(self):\n",
    "        super(ConvNet, self).__init__()\n",
    "        #定义第一个卷积层\n",
    "        self.conv1 = nn.Sequential(\n",
    "            nn.Conv2d(in_channels = 1,\n",
    "                      out_channels = 16,\n",
    "                      kernel_size = 3,\n",
    "                      stride = 1,\n",
    "                      padding = 1,\n",
    "            ),\n",
    "            nn.ReLU(),\n",
    "            nn.AvgPool2d(\n",
    "                kernel_size = 2,\n",
    "                stride = 2,\n",
    "            ),\n",
    "        )\n",
    "        #定义第二个卷积层\n",
    "        self.conv2 = nn.Sequential(\n",
    "            nn.Conv2d(16, 32, 3, 1, 1),\n",
    "            nn.ReLU(),\n",
    "            nn.MaxPool2d(2,2)\n",
    "        )\n",
    "        #定义第第一个全连接层\n",
    "        self.fc = nn.Sequential(\n",
    "            nn.Linear(\n",
    "                in_features = 32*7*7,\n",
    "                out_features = 128,\n",
    "            ),\n",
    "            nn.ReLU(),\n",
    "            nn.Linear(128, 64),\n",
    "            nn.ReLU(),\n",
    "        )\n",
    "        self.out = nn.Linear(64, 10)\n",
    "    def forward(self,x):\n",
    "        x = self.conv1(x)\n",
    "        x = self.conv2(x)\n",
    "        x = x.view(x.size(0), -1)\n",
    "        x = self.fc(x)\n",
    "        output = self.out(x)\n",
    "        return output"
   ]
  },
  {
   "cell_type": "code",
   "execution_count": null,
   "id": "09b63b8f",
   "metadata": {
    "scrolled": true
   },
   "outputs": [],
   "source": [
    "net = ConvNet()\n",
    "print(net)"
   ]
  },
  {
   "cell_type": "markdown",
   "id": "b6aa2ff9",
   "metadata": {},
   "source": [
    "PyTorchViz库可视化网络结构"
   ]
  },
  {
   "cell_type": "code",
   "execution_count": null,
   "id": "23d652bc",
   "metadata": {},
   "outputs": [],
   "source": [
    "from torchviz import make_dot\n",
    "x = torch.randn(1, 1, 28, 28).requires_grad_(True)\n",
    "y = net(x)\n",
    "MyConvnetvis = make_dot(y, params = dict(list(net.named_parameters()) + [('x', x)]))\n",
    "MyConvnetvis.format = 'png'\n",
    "MyConvnetvis.directory = './nets/charpt4/net_vis'\n",
    "MyConvnetvis.view()"
   ]
  },
  {
   "cell_type": "markdown",
   "id": "ea55e98c",
   "metadata": {},
   "source": [
    "定义优化器"
   ]
  },
  {
   "cell_type": "code",
   "execution_count": null,
   "id": "76f0b842",
   "metadata": {},
   "outputs": [],
   "source": [
    "optimizer = optim.Adam(net.parameters(), lr = 0.00003)\n",
    "criteon = nn.CrossEntropyLoss()\n",
    "epochs = 10\n",
    "for epoch in range(epochs):\n",
    "    for batch_idx, (data, target) in enumerate(train_loader):\n",
    "        output = net(data)\n",
    "        loss = criteon(output, target)\n",
    "        optimizer.zero_grad()\n",
    "        loss.backward()\n",
    "        optimizer.step\n",
    "        if batch_idx%100 == 0:\n",
    "            print('Train Epoch:{}[{}/{} ({:.0f}%)]\\tloss:{:.6f}'.format(epoch, batch_idx*len(data), len(train_loader.dataset),\n",
    "                                                                     100.*batch_idx/len(train_loader), loss.item()))\n",
    "        "
   ]
  },
  {
   "cell_type": "markdown",
   "id": "777261df",
   "metadata": {},
   "source": [
    "使用tensorboardX进行可视化"
   ]
  },
  {
   "cell_type": "code",
   "execution_count": null,
   "id": "5c543021",
   "metadata": {},
   "outputs": [],
   "source": [
    "from tensorboardX import SummaryWriter\n",
    "SumWriter = SummaryWriter(log_dir = './vis/charpt4/log')\n",
    "optimizer = torch.optim.Adam(net.parameters(), lr = 0.0003)\n",
    "criteon = nn.CrossEntropyLoss()\n",
    "train_loss = 0\n",
    "for epoch in range(5):\n",
    "    for step, (data, target) in enumerate(train_loader):\n",
    "        output = net(data)\n",
    "        loss = criteon(output, target)\n",
    "        optimizer.zero_grad()\n",
    "        loss.backward()\n",
    "        optimizer.step()\n",
    "        train_loss = loss + train_loss\n",
    "        #计算迭代次数\n",
    "        niter = epoch * len(train_loader) + step +1\n",
    "        if niter % 100 == 0:\n",
    "            SumWriter.add_scalar('train_loss', train_loss.item()/niter, global_step = niter)\n",
    "            output = net(test_data_x)\n",
    "            _,pre_lab = torch.max(output, 1)\n",
    "            acc = accuracy_score(test_data_y, pre_lab)\n",
    "            SumWriter.add_scalar('test_acc', acc.item(), niter)\n",
    "            b_x_im = vutils.make_grid(data, nrow = 12)\n",
    "            SumWriter.add_image('train_image sample', b_x_im, niter)\n",
    "            for name, param in net.named_parameters():\n",
    "                SumWriter.add_histogram(name, param.data.numpy(), niter)"
   ]
  },
  {
   "cell_type": "markdown",
   "id": "4c952e2f",
   "metadata": {},
   "source": [
    "使用visdom可视化"
   ]
  },
  {
   "cell_type": "code",
   "execution_count": 5,
   "id": "3ba143d8",
   "metadata": {},
   "outputs": [
    {
     "name": "stdout",
     "output_type": "stream",
     "text": [
      "(150, 4)\n",
      "(150,)\n"
     ]
    }
   ],
   "source": [
    "from visdom import Visdom\n",
    "from sklearn.datasets import load_iris\n",
    "iris_x, iris_y = load_iris(return_X_y = True)\n",
    "print(iris_x.shape)\n",
    "print(iris_y.shape)"
   ]
  },
  {
   "cell_type": "markdown",
   "id": "4fc89215",
   "metadata": {},
   "source": [
    "先启动visdom服务。\n",
    "python -m visdom.server\n",
    "http://localhost:8097"
   ]
  },
  {
   "cell_type": "code",
   "execution_count": 6,
   "id": "9b1318ed",
   "metadata": {
    "scrolled": true
   },
   "outputs": [
    {
     "name": "stderr",
     "output_type": "stream",
     "text": [
      "Setting up a new session...\n"
     ]
    },
    {
     "data": {
      "text/plain": [
       "'3D 散点图'"
      ]
     },
     "execution_count": 6,
     "metadata": {},
     "output_type": "execute_result"
    }
   ],
   "source": [
    "vis = Visdom()\n",
    "vis.scatter(iris_x[:,0:2], Y = iris_y+1, win= 'windows1', env = 'main')\n",
    "vis.scatter(iris_x[:,0:3], Y = iris_y+1, win='3D 散点图', env='main', opts = dict(markersize = 4, xlabel = '特征1', ylabel = '特征2'))\n"
   ]
  },
  {
   "cell_type": "code",
   "execution_count": 9,
   "id": "e94f81f9",
   "metadata": {},
   "outputs": [
    {
     "data": {
      "text/plain": [
       "'line plot'"
      ]
     },
     "execution_count": 9,
     "metadata": {},
     "output_type": "execute_result"
    }
   ],
   "source": [
    "x = torch.linspace(-6, 6, 100).view((-1,1))\n",
    "sigmoid = torch.nn.Sigmoid()\n",
    "sigmoidy = sigmoid(x)\n",
    "tanh = torch.nn.Tanh()\n",
    "tanhy = tanh(x)\n",
    "relu = torch.nn.ReLU()\n",
    "reluy = relu(x)\n",
    "ploty = torch.cat((sigmoidy,tanhy,reluy), dim=1)\n",
    "plotx = torch.cat((x,x,x),dim = 1)\n",
    "vis.line(Y = ploty, X = plotx, win='line plot', env = 'main', opts = dict(dash = np.array(['solid','dash','dashdot']),\n",
    "                                                                        legend = ['Sigmoid', 'Tanh','ReLu']))"
   ]
  },
  {
   "cell_type": "code",
   "execution_count": 10,
   "id": "0ca1f01c",
   "metadata": {},
   "outputs": [
    {
     "data": {
      "text/plain": [
       "'stem plot'"
      ]
     },
     "execution_count": 10,
     "metadata": {},
     "output_type": "execute_result"
    }
   ],
   "source": [
    "x = torch.linspace(-6, 6, 100).view((-1, 1))\n",
    "y1 = torch.sin(x)\n",
    "y2 = torch.cos(x)\n",
    "plotx = torch.cat((y1, y2), dim = 1)\n",
    "ploty = torch.cat((x, x), dim = 1)\n",
    "vis.stem(X = plotx, Y = ploty, win = 'stem plot', env = 'main', opts = dict(legend = ['sin', 'cos'], title = '茎叶图'))\n"
   ]
  },
  {
   "cell_type": "code",
   "execution_count": 11,
   "id": "f64e4669",
   "metadata": {},
   "outputs": [
    {
     "data": {
      "text/plain": [
       "'heatmap'"
      ]
     },
     "execution_count": 11,
     "metadata": {},
     "output_type": "execute_result"
    }
   ],
   "source": [
    "iris_corr = torch.from_numpy(np.corrcoef(iris_x, rowvar = False))\n",
    "vis.heatmap(iris_corr, win = 'heatmap', env = 'main',\n",
    "            opts = dict(rownames = ['x1', 'x2', 'x3', 'x4'],\n",
    "                       columnnames = ['x1', 'x2', 'x3', 'x4'],\n",
    "                       title = '热力图')\n",
    "           )"
   ]
  },
  {
   "cell_type": "code",
   "execution_count": 13,
   "id": "cc702598",
   "metadata": {},
   "outputs": [
    {
     "name": "stderr",
     "output_type": "stream",
     "text": [
      "Connection to remote host was lost.\n",
      "[Errno 61] Connection refused\n",
      "[Errno 61] Connection refused\n",
      "[Errno 61] Connection refused\n"
     ]
    }
   ],
   "source": [
    "for step, (data, target) in enumerate(train_loader):\n",
    "    if step > 0:\n",
    "        break\n",
    "    vis.image(data[0,:,:,:], win = 'one image', env = 'MyimagePlot',\n",
    "         opts = dict(title = '一张图像'))\n",
    "    vis.images(data, win = 'batch images', env = 'MyimagePlot',nrow = 16, opts = dict(title = '一个批次的图像'))"
   ]
  },
  {
   "cell_type": "code",
   "execution_count": null,
   "id": "bfe4653d",
   "metadata": {},
   "outputs": [],
   "source": []
  }
 ],
 "metadata": {
  "kernelspec": {
   "display_name": "Python pytorch",
   "language": "python",
   "name": "pytorch"
  },
  "language_info": {
   "codemirror_mode": {
    "name": "ipython",
    "version": 3
   },
   "file_extension": ".py",
   "mimetype": "text/x-python",
   "name": "python",
   "nbconvert_exporter": "python",
   "pygments_lexer": "ipython3",
   "version": "3.8.8"
  }
 },
 "nbformat": 4,
 "nbformat_minor": 5
}

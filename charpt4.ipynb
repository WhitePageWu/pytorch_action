{
 "cells": [
  {
   "cell_type": "code",
   "execution_count": 1,
   "id": "16be5b5b",
   "metadata": {},
   "outputs": [],
   "source": [
    "import torch\n",
    "import torch.nn as nn\n",
    "import torchvision\n",
    "import torchvision.utils as vutils\n",
    "import torch.optim as optim\n",
    "import torch.utils.data as Data\n",
    "from sklearn.metrics import accuracy_score\n",
    "import matplotlib.pyplot as plt"
   ]
  },
  {
   "cell_type": "markdown",
   "id": "8467a9ae",
   "metadata": {},
   "source": [
    "下载并加载数据集"
   ]
  },
  {
   "cell_type": "code",
   "execution_count": 11,
   "id": "20ac450d",
   "metadata": {
    "scrolled": false
   },
   "outputs": [
    {
     "name": "stdout",
     "output_type": "stream",
     "text": [
      "torch.Size([10000])\n"
     ]
    }
   ],
   "source": [
    "train_data = torchvision.datasets.MNIST(\n",
    "    root = './datasets/MNIST',\n",
    "    train = True,\n",
    "    transform = torchvision.transforms.ToTensor(),\n",
    "    download = True,\n",
    ")\n",
    "\n",
    "train_loader = Data.DataLoader(\n",
    "    dataset = train_data,\n",
    "    batch_size = 128,\n",
    "    shuffle = True,\n",
    "    num_workers = 1,\n",
    ")\n",
    "\n",
    "test_data = torchvision.datasets.MNIST(\n",
    "    root = './datasets/MNIST',\n",
    "    train = False,\n",
    "    transform = torchvision.transforms.ToTensor(),\n",
    "    download = False,\n",
    ")\n",
    "test_data_x = test_data.data.type(torch.FloatTensor) / 255.0\n",
    "test_data_x = torch.unsqueeze(test_data_x, dim = 1)\n",
    "test_data_y = test_data.targets\n",
    "print(test_data_y.shape)"
   ]
  },
  {
   "cell_type": "markdown",
   "id": "d657e913",
   "metadata": {},
   "source": [
    "查看数据集"
   ]
  },
  {
   "cell_type": "code",
   "execution_count": 3,
   "id": "dd6b9d15",
   "metadata": {
    "scrolled": true
   },
   "outputs": [
    {
     "name": "stdout",
     "output_type": "stream",
     "text": [
      "torch.Size([128, 1, 28, 28])\n",
      "torch.Size([128])\n"
     ]
    }
   ],
   "source": [
    "for epoch, (data, target) in enumerate(train_loader):\n",
    "    if epoch > 0:\n",
    "        break\n",
    "    print(data.shape)\n",
    "    print(target.shape)"
   ]
  },
  {
   "cell_type": "markdown",
   "id": "d43fa407",
   "metadata": {},
   "source": [
    "定义网络"
   ]
  },
  {
   "cell_type": "code",
   "execution_count": 4,
   "id": "946565c7",
   "metadata": {},
   "outputs": [],
   "source": [
    "class ConvNet(nn.Module):\n",
    "    def __init__(self):\n",
    "        super(ConvNet, self).__init__()\n",
    "        #定义第一个卷积层\n",
    "        self.conv1 = nn.Sequential(\n",
    "            nn.Conv2d(in_channels = 1,\n",
    "                      out_channels = 16,\n",
    "                      kernel_size = 3,\n",
    "                      stride = 1,\n",
    "                      padding = 1,\n",
    "            ),\n",
    "            nn.ReLU(),\n",
    "            nn.AvgPool2d(\n",
    "                kernel_size = 2,\n",
    "                stride = 2,\n",
    "            ),\n",
    "        )\n",
    "        #定义第二个卷积层\n",
    "        self.conv2 = nn.Sequential(\n",
    "            nn.Conv2d(16, 32, 3, 1, 1),\n",
    "            nn.ReLU(),\n",
    "            nn.MaxPool2d(2,2)\n",
    "        )\n",
    "        #定义第第一个全连接层\n",
    "        self.fc = nn.Sequential(\n",
    "            nn.Linear(\n",
    "                in_features = 32*7*7,\n",
    "                out_features = 128,\n",
    "            ),\n",
    "            nn.ReLU(),\n",
    "            nn.Linear(128, 64),\n",
    "            nn.ReLU(),\n",
    "        )\n",
    "        self.out = nn.Linear(64, 10)\n",
    "    def forward(self,x):\n",
    "        x = self.conv1(x)\n",
    "        x = self.conv2(x)\n",
    "        x = x.view(x.size(0), -1)\n",
    "        x = self.fc(x)\n",
    "        output = self.out(x)\n",
    "        return output"
   ]
  },
  {
   "cell_type": "code",
   "execution_count": 5,
   "id": "09b63b8f",
   "metadata": {
    "scrolled": true
   },
   "outputs": [
    {
     "name": "stdout",
     "output_type": "stream",
     "text": [
      "ConvNet(\n",
      "  (conv1): Sequential(\n",
      "    (0): Conv2d(1, 16, kernel_size=(3, 3), stride=(1, 1), padding=(1, 1))\n",
      "    (1): ReLU()\n",
      "    (2): AvgPool2d(kernel_size=2, stride=2, padding=0)\n",
      "  )\n",
      "  (conv2): Sequential(\n",
      "    (0): Conv2d(16, 32, kernel_size=(3, 3), stride=(1, 1), padding=(1, 1))\n",
      "    (1): ReLU()\n",
      "    (2): MaxPool2d(kernel_size=2, stride=2, padding=0, dilation=1, ceil_mode=False)\n",
      "  )\n",
      "  (fc): Sequential(\n",
      "    (0): Linear(in_features=1568, out_features=128, bias=True)\n",
      "    (1): ReLU()\n",
      "    (2): Linear(in_features=128, out_features=64, bias=True)\n",
      "    (3): ReLU()\n",
      "  )\n",
      "  (out): Linear(in_features=64, out_features=10, bias=True)\n",
      ")\n"
     ]
    }
   ],
   "source": [
    "net = ConvNet()\n",
    "print(net)"
   ]
  },
  {
   "cell_type": "markdown",
   "id": "b6aa2ff9",
   "metadata": {},
   "source": [
    "PyTorchViz库可视化网络结构"
   ]
  },
  {
   "cell_type": "code",
   "execution_count": 7,
   "id": "23d652bc",
   "metadata": {},
   "outputs": [
    {
     "data": {
      "text/plain": [
       "'./nets/charpt4/net_vis/Digraph.gv.png'"
      ]
     },
     "execution_count": 7,
     "metadata": {},
     "output_type": "execute_result"
    }
   ],
   "source": [
    "from torchviz import make_dot\n",
    "x = torch.randn(1, 1, 28, 28).requires_grad_(True)\n",
    "y = net(x)\n",
    "MyConvnetvis = make_dot(y, params = dict(list(net.named_parameters()) + [('x', x)]))\n",
    "MyConvnetvis.format = 'png'\n",
    "MyConvnetvis.directory = './nets/charpt4/net_vis'\n",
    "MyConvnetvis.view()"
   ]
  },
  {
   "cell_type": "markdown",
   "id": "ea55e98c",
   "metadata": {},
   "source": [
    "定义优化器"
   ]
  },
  {
   "cell_type": "code",
   "execution_count": 6,
   "id": "76f0b842",
   "metadata": {},
   "outputs": [
    {
     "name": "stdout",
     "output_type": "stream",
     "text": [
      "Train Epoch:0[0/60000 (0%)]\tloss:2.303863\n",
      "Train Epoch:0[6400/60000 (11%)]\tloss:2.313025\n",
      "Train Epoch:0[12800/60000 (21%)]\tloss:2.299715\n",
      "Train Epoch:0[19200/60000 (32%)]\tloss:2.307636\n",
      "Train Epoch:0[25600/60000 (43%)]\tloss:2.302699\n",
      "Train Epoch:0[32000/60000 (53%)]\tloss:2.298974\n",
      "Train Epoch:0[38400/60000 (64%)]\tloss:2.306335\n",
      "Train Epoch:0[44800/60000 (75%)]\tloss:2.314180\n",
      "Train Epoch:0[51200/60000 (85%)]\tloss:2.302088\n",
      "Train Epoch:0[57600/60000 (96%)]\tloss:2.293805\n",
      "Train Epoch:1[0/60000 (0%)]\tloss:2.296160\n",
      "Train Epoch:1[6400/60000 (11%)]\tloss:2.305914\n",
      "Train Epoch:1[12800/60000 (21%)]\tloss:2.313127\n",
      "Train Epoch:1[19200/60000 (32%)]\tloss:2.302572\n",
      "Train Epoch:1[25600/60000 (43%)]\tloss:2.301315\n",
      "Train Epoch:1[32000/60000 (53%)]\tloss:2.311704\n",
      "Train Epoch:1[38400/60000 (64%)]\tloss:2.302238\n",
      "Train Epoch:1[44800/60000 (75%)]\tloss:2.296499\n",
      "Train Epoch:1[51200/60000 (85%)]\tloss:2.301206\n",
      "Train Epoch:1[57600/60000 (96%)]\tloss:2.310627\n",
      "Train Epoch:2[0/60000 (0%)]\tloss:2.297341\n",
      "Train Epoch:2[6400/60000 (11%)]\tloss:2.301350\n",
      "Train Epoch:2[12800/60000 (21%)]\tloss:2.305898\n",
      "Train Epoch:2[19200/60000 (32%)]\tloss:2.310987\n",
      "Train Epoch:2[25600/60000 (43%)]\tloss:2.305175\n",
      "Train Epoch:2[32000/60000 (53%)]\tloss:2.291213\n",
      "Train Epoch:2[38400/60000 (64%)]\tloss:2.295967\n",
      "Train Epoch:2[44800/60000 (75%)]\tloss:2.293054\n",
      "Train Epoch:2[51200/60000 (85%)]\tloss:2.300381\n",
      "Train Epoch:2[57600/60000 (96%)]\tloss:2.295534\n",
      "Train Epoch:3[0/60000 (0%)]\tloss:2.308576\n",
      "Train Epoch:3[6400/60000 (11%)]\tloss:2.302303\n",
      "Train Epoch:3[12800/60000 (21%)]\tloss:2.298960\n",
      "Train Epoch:3[19200/60000 (32%)]\tloss:2.308751\n",
      "Train Epoch:3[25600/60000 (43%)]\tloss:2.298473\n",
      "Train Epoch:3[32000/60000 (53%)]\tloss:2.293914\n",
      "Train Epoch:3[38400/60000 (64%)]\tloss:2.313348\n",
      "Train Epoch:3[44800/60000 (75%)]\tloss:2.306700\n",
      "Train Epoch:3[51200/60000 (85%)]\tloss:2.310127\n",
      "Train Epoch:3[57600/60000 (96%)]\tloss:2.310483\n",
      "Train Epoch:4[0/60000 (0%)]\tloss:2.303612\n",
      "Train Epoch:4[6400/60000 (11%)]\tloss:2.310236\n",
      "Train Epoch:4[12800/60000 (21%)]\tloss:2.310459\n",
      "Train Epoch:4[19200/60000 (32%)]\tloss:2.314656\n",
      "Train Epoch:4[25600/60000 (43%)]\tloss:2.307018\n",
      "Train Epoch:4[32000/60000 (53%)]\tloss:2.316293\n",
      "Train Epoch:4[38400/60000 (64%)]\tloss:2.306586\n",
      "Train Epoch:4[44800/60000 (75%)]\tloss:2.297587\n",
      "Train Epoch:4[51200/60000 (85%)]\tloss:2.295956\n",
      "Train Epoch:4[57600/60000 (96%)]\tloss:2.297763\n",
      "Train Epoch:5[0/60000 (0%)]\tloss:2.303808\n",
      "Train Epoch:5[6400/60000 (11%)]\tloss:2.298725\n",
      "Train Epoch:5[12800/60000 (21%)]\tloss:2.303092\n",
      "Train Epoch:5[19200/60000 (32%)]\tloss:2.295945\n",
      "Train Epoch:5[25600/60000 (43%)]\tloss:2.298937\n",
      "Train Epoch:5[32000/60000 (53%)]\tloss:2.293841\n",
      "Train Epoch:5[38400/60000 (64%)]\tloss:2.301183\n",
      "Train Epoch:5[44800/60000 (75%)]\tloss:2.306809\n",
      "Train Epoch:5[51200/60000 (85%)]\tloss:2.305360\n",
      "Train Epoch:5[57600/60000 (96%)]\tloss:2.302258\n",
      "Train Epoch:6[0/60000 (0%)]\tloss:2.299574\n",
      "Train Epoch:6[6400/60000 (11%)]\tloss:2.301002\n",
      "Train Epoch:6[12800/60000 (21%)]\tloss:2.300908\n",
      "Train Epoch:6[19200/60000 (32%)]\tloss:2.298257\n",
      "Train Epoch:6[25600/60000 (43%)]\tloss:2.302649\n",
      "Train Epoch:6[32000/60000 (53%)]\tloss:2.308349\n",
      "Train Epoch:6[38400/60000 (64%)]\tloss:2.307119\n",
      "Train Epoch:6[44800/60000 (75%)]\tloss:2.306380\n",
      "Train Epoch:6[51200/60000 (85%)]\tloss:2.310052\n",
      "Train Epoch:6[57600/60000 (96%)]\tloss:2.301657\n",
      "Train Epoch:7[0/60000 (0%)]\tloss:2.298892\n",
      "Train Epoch:7[6400/60000 (11%)]\tloss:2.309804\n",
      "Train Epoch:7[12800/60000 (21%)]\tloss:2.303066\n",
      "Train Epoch:7[19200/60000 (32%)]\tloss:2.311337\n",
      "Train Epoch:7[25600/60000 (43%)]\tloss:2.294853\n",
      "Train Epoch:7[32000/60000 (53%)]\tloss:2.300655\n",
      "Train Epoch:7[38400/60000 (64%)]\tloss:2.310483\n",
      "Train Epoch:7[44800/60000 (75%)]\tloss:2.297458\n",
      "Train Epoch:7[51200/60000 (85%)]\tloss:2.297032\n",
      "Train Epoch:7[57600/60000 (96%)]\tloss:2.304942\n",
      "Train Epoch:8[0/60000 (0%)]\tloss:2.298528\n",
      "Train Epoch:8[6400/60000 (11%)]\tloss:2.297398\n",
      "Train Epoch:8[12800/60000 (21%)]\tloss:2.305413\n",
      "Train Epoch:8[19200/60000 (32%)]\tloss:2.307146\n",
      "Train Epoch:8[25600/60000 (43%)]\tloss:2.311744\n",
      "Train Epoch:8[32000/60000 (53%)]\tloss:2.296040\n",
      "Train Epoch:8[38400/60000 (64%)]\tloss:2.305963\n",
      "Train Epoch:8[44800/60000 (75%)]\tloss:2.311185\n",
      "Train Epoch:8[51200/60000 (85%)]\tloss:2.300561\n",
      "Train Epoch:8[57600/60000 (96%)]\tloss:2.305282\n",
      "Train Epoch:9[0/60000 (0%)]\tloss:2.308181\n",
      "Train Epoch:9[6400/60000 (11%)]\tloss:2.312773\n",
      "Train Epoch:9[12800/60000 (21%)]\tloss:2.300339\n",
      "Train Epoch:9[19200/60000 (32%)]\tloss:2.308286\n",
      "Train Epoch:9[25600/60000 (43%)]\tloss:2.304568\n",
      "Train Epoch:9[32000/60000 (53%)]\tloss:2.303799\n",
      "Train Epoch:9[38400/60000 (64%)]\tloss:2.301696\n",
      "Train Epoch:9[44800/60000 (75%)]\tloss:2.298040\n",
      "Train Epoch:9[51200/60000 (85%)]\tloss:2.303196\n",
      "Train Epoch:9[57600/60000 (96%)]\tloss:2.307254\n"
     ]
    }
   ],
   "source": [
    "optimizer = optim.Adam(net.parameters(), lr = 0.00003)\n",
    "criteon = nn.CrossEntropyLoss()\n",
    "epochs = 10\n",
    "for epoch in range(epochs):\n",
    "    for batch_idx, (data, target) in enumerate(train_loader):\n",
    "        output = net(data)\n",
    "        loss = criteon(output, target)\n",
    "        optimizer.zero_grad()\n",
    "        loss.backward()\n",
    "        optimizer.step\n",
    "        if batch_idx%50 == 0:\n",
    "            print('Train Epoch:{}[{}/{} ({:.0f}%)]\\tloss:{:.6f}'.format(epoch, batch_idx*len(data), len(train_loader.dataset),\n",
    "                                                                     100.*batch_idx/len(train_loader), loss.item()))\n",
    "        "
   ]
  },
  {
   "cell_type": "markdown",
   "id": "777261df",
   "metadata": {},
   "source": [
    "使用tensorboardX进行可视化"
   ]
  },
  {
   "cell_type": "code",
   "execution_count": 15,
   "id": "5c543021",
   "metadata": {},
   "outputs": [],
   "source": [
    "from tensorboardX import SummaryWriter\n",
    "SumWriter = SummaryWriter(log_dir = './vis/charpt4/log')\n",
    "optimizer = torch.optim.Adam(net.parameters(), lr = 0.0003)\n",
    "criteon = nn.CrossEntropyLoss()\n",
    "train_loss = 0\n",
    "for epoch in range(5):\n",
    "    for step, (data, target) in enumerate(train_loader):\n",
    "        output = net(data)\n",
    "        loss = criteon(output, target)\n",
    "        optimizer.zero_grad()\n",
    "        loss.backward()\n",
    "        optimizer.step()\n",
    "        train_loss = loss + train_loss\n",
    "        #计算迭代次数\n",
    "        niter = epoch * len(train_loader) + step +1\n",
    "        if niter % 100 == 0:\n",
    "            SumWriter.add_scalar('train_loss', train_loss.item()/niter, global_step = niter)\n",
    "            output = net(test_data_x)\n",
    "            _,pre_lab = torch.max(output, 1)\n",
    "            acc = accuracy_score(test_data_y, pre_lab)\n",
    "            SumWriter.add_scalar('test_acc', acc.item(), niter)\n",
    "            b_x_im = vutils.make_grid(data, nrow = 12)\n",
    "            SumWriter.add_image('train_image sample', b_x_im, niter)\n",
    "            for name, param in net.named_parameters():\n",
    "                SumWriter.add_histogram(name, param.data.numpy(), niter)"
   ]
  },
  {
   "cell_type": "markdown",
   "id": "4c952e2f",
   "metadata": {},
   "source": [
    "使用visdom可视化"
   ]
  },
  {
   "cell_type": "code",
   "execution_count": 28,
   "id": "3ba143d8",
   "metadata": {},
   "outputs": [],
   "source": [
    "from visdom import Visdom\n",
    "from sklearn.datasets import load_iris\n",
    "iris_x, iris_y = load_iris(return_X_y = True)"
   ]
  },
  {
   "cell_type": "code",
   "execution_count": 29,
   "id": "9b1318ed",
   "metadata": {},
   "outputs": [
    {
     "name": "stderr",
     "output_type": "stream",
     "text": [
      "WARNING:visdom:Setting up a new session...\n",
      "Traceback (most recent call last):\n",
      "  File \"/opt/anaconda3/envs/pytorch/lib/python3.8/site-packages/urllib3/connection.py\", line 169, in _new_conn\n",
      "    conn = connection.create_connection(\n",
      "  File \"/opt/anaconda3/envs/pytorch/lib/python3.8/site-packages/urllib3/util/connection.py\", line 96, in create_connection\n",
      "    raise err\n",
      "  File \"/opt/anaconda3/envs/pytorch/lib/python3.8/site-packages/urllib3/util/connection.py\", line 86, in create_connection\n",
      "    sock.connect(sa)\n",
      "ConnectionRefusedError: [Errno 61] Connection refused\n",
      "\n",
      "During handling of the above exception, another exception occurred:\n",
      "\n",
      "Traceback (most recent call last):\n",
      "  File \"/opt/anaconda3/envs/pytorch/lib/python3.8/site-packages/urllib3/connectionpool.py\", line 699, in urlopen\n",
      "    httplib_response = self._make_request(\n",
      "  File \"/opt/anaconda3/envs/pytorch/lib/python3.8/site-packages/urllib3/connectionpool.py\", line 394, in _make_request\n",
      "    conn.request(method, url, **httplib_request_kw)\n",
      "  File \"/opt/anaconda3/envs/pytorch/lib/python3.8/site-packages/urllib3/connection.py\", line 234, in request\n",
      "    super(HTTPConnection, self).request(method, url, body=body, headers=headers)\n",
      "  File \"/opt/anaconda3/envs/pytorch/lib/python3.8/http/client.py\", line 1255, in request\n",
      "    self._send_request(method, url, body, headers, encode_chunked)\n",
      "  File \"/opt/anaconda3/envs/pytorch/lib/python3.8/http/client.py\", line 1301, in _send_request\n",
      "    self.endheaders(body, encode_chunked=encode_chunked)\n",
      "  File \"/opt/anaconda3/envs/pytorch/lib/python3.8/http/client.py\", line 1250, in endheaders\n",
      "    self._send_output(message_body, encode_chunked=encode_chunked)\n",
      "  File \"/opt/anaconda3/envs/pytorch/lib/python3.8/http/client.py\", line 1010, in _send_output\n",
      "    self.send(msg)\n",
      "  File \"/opt/anaconda3/envs/pytorch/lib/python3.8/http/client.py\", line 950, in send\n",
      "    self.connect()\n",
      "  File \"/opt/anaconda3/envs/pytorch/lib/python3.8/site-packages/urllib3/connection.py\", line 200, in connect\n",
      "    conn = self._new_conn()\n",
      "  File \"/opt/anaconda3/envs/pytorch/lib/python3.8/site-packages/urllib3/connection.py\", line 181, in _new_conn\n",
      "    raise NewConnectionError(\n",
      "urllib3.exceptions.NewConnectionError: <urllib3.connection.HTTPConnection object at 0x7fb9c94b0ee0>: Failed to establish a new connection: [Errno 61] Connection refused\n",
      "\n",
      "During handling of the above exception, another exception occurred:\n",
      "\n",
      "Traceback (most recent call last):\n",
      "  File \"/opt/anaconda3/envs/pytorch/lib/python3.8/site-packages/requests/adapters.py\", line 439, in send\n",
      "    resp = conn.urlopen(\n",
      "  File \"/opt/anaconda3/envs/pytorch/lib/python3.8/site-packages/urllib3/connectionpool.py\", line 755, in urlopen\n",
      "    retries = retries.increment(\n",
      "  File \"/opt/anaconda3/envs/pytorch/lib/python3.8/site-packages/urllib3/util/retry.py\", line 574, in increment\n",
      "    raise MaxRetryError(_pool, url, error or ResponseError(cause))\n",
      "urllib3.exceptions.MaxRetryError: HTTPConnectionPool(host='localhost', port=8097): Max retries exceeded with url: /env/main (Caused by NewConnectionError('<urllib3.connection.HTTPConnection object at 0x7fb9c94b0ee0>: Failed to establish a new connection: [Errno 61] Connection refused'))\n",
      "\n",
      "During handling of the above exception, another exception occurred:\n",
      "\n",
      "Traceback (most recent call last):\n",
      "  File \"/opt/anaconda3/envs/pytorch/lib/python3.8/site-packages/visdom/__init__.py\", line 708, in _send\n",
      "    return self._handle_post(\n",
      "  File \"/opt/anaconda3/envs/pytorch/lib/python3.8/site-packages/visdom/__init__.py\", line 677, in _handle_post\n",
      "    r = self.session.post(url, data=data)\n",
      "  File \"/opt/anaconda3/envs/pytorch/lib/python3.8/site-packages/requests/sessions.py\", line 590, in post\n",
      "    return self.request('POST', url, data=data, json=json, **kwargs)\n",
      "  File \"/opt/anaconda3/envs/pytorch/lib/python3.8/site-packages/requests/sessions.py\", line 542, in request\n",
      "    resp = self.send(prep, **send_kwargs)\n",
      "  File \"/opt/anaconda3/envs/pytorch/lib/python3.8/site-packages/requests/sessions.py\", line 655, in send\n",
      "    r = adapter.send(request, **kwargs)\n",
      "  File \"/opt/anaconda3/envs/pytorch/lib/python3.8/site-packages/requests/adapters.py\", line 516, in send\n",
      "    raise ConnectionError(e, request=request)\n",
      "requests.exceptions.ConnectionError: HTTPConnectionPool(host='localhost', port=8097): Max retries exceeded with url: /env/main (Caused by NewConnectionError('<urllib3.connection.HTTPConnection object at 0x7fb9c94b0ee0>: Failed to establish a new connection: [Errno 61] Connection refused'))\n",
      "ERROR:visdom:[Errno 61] Connection refused\n",
      "ERROR:websocket:error from callback <function Visdom.setup_socket.<locals>.on_close at 0x7fb7c95cbe50>: on_close() takes 1 positional argument but 3 were given\n"
     ]
    },
    {
     "name": "stdout",
     "output_type": "stream",
     "text": [
      "Exception in user code:\n",
      "------------------------------------------------------------\n",
      "Exception in user code:\n",
      "------------------------------------------------------------\n",
      "Exception in user code:\n",
      "------------------------------------------------------------\n"
     ]
    },
    {
     "name": "stderr",
     "output_type": "stream",
     "text": [
      "Traceback (most recent call last):\n",
      "  File \"/opt/anaconda3/envs/pytorch/lib/python3.8/site-packages/urllib3/connection.py\", line 169, in _new_conn\n",
      "    conn = connection.create_connection(\n",
      "  File \"/opt/anaconda3/envs/pytorch/lib/python3.8/site-packages/urllib3/util/connection.py\", line 96, in create_connection\n",
      "    raise err\n",
      "  File \"/opt/anaconda3/envs/pytorch/lib/python3.8/site-packages/urllib3/util/connection.py\", line 86, in create_connection\n",
      "    sock.connect(sa)\n",
      "ConnectionRefusedError: [Errno 61] Connection refused\n",
      "\n",
      "During handling of the above exception, another exception occurred:\n",
      "\n",
      "Traceback (most recent call last):\n",
      "  File \"/opt/anaconda3/envs/pytorch/lib/python3.8/site-packages/urllib3/connectionpool.py\", line 699, in urlopen\n",
      "    httplib_response = self._make_request(\n",
      "  File \"/opt/anaconda3/envs/pytorch/lib/python3.8/site-packages/urllib3/connectionpool.py\", line 394, in _make_request\n",
      "    conn.request(method, url, **httplib_request_kw)\n",
      "  File \"/opt/anaconda3/envs/pytorch/lib/python3.8/site-packages/urllib3/connection.py\", line 234, in request\n",
      "    super(HTTPConnection, self).request(method, url, body=body, headers=headers)\n",
      "  File \"/opt/anaconda3/envs/pytorch/lib/python3.8/http/client.py\", line 1255, in request\n",
      "    self._send_request(method, url, body, headers, encode_chunked)\n",
      "  File \"/opt/anaconda3/envs/pytorch/lib/python3.8/http/client.py\", line 1301, in _send_request\n",
      "    self.endheaders(body, encode_chunked=encode_chunked)\n",
      "  File \"/opt/anaconda3/envs/pytorch/lib/python3.8/http/client.py\", line 1250, in endheaders\n",
      "    self._send_output(message_body, encode_chunked=encode_chunked)\n",
      "  File \"/opt/anaconda3/envs/pytorch/lib/python3.8/http/client.py\", line 1010, in _send_output\n",
      "    self.send(msg)\n",
      "  File \"/opt/anaconda3/envs/pytorch/lib/python3.8/http/client.py\", line 950, in send\n",
      "    self.connect()\n",
      "  File \"/opt/anaconda3/envs/pytorch/lib/python3.8/site-packages/urllib3/connection.py\", line 200, in connect\n",
      "    conn = self._new_conn()\n",
      "  File \"/opt/anaconda3/envs/pytorch/lib/python3.8/site-packages/urllib3/connection.py\", line 181, in _new_conn\n",
      "    raise NewConnectionError(\n",
      "urllib3.exceptions.NewConnectionError: <urllib3.connection.HTTPConnection object at 0x7fb9c977b760>: Failed to establish a new connection: [Errno 61] Connection refused\n",
      "\n",
      "During handling of the above exception, another exception occurred:\n",
      "\n",
      "Traceback (most recent call last):\n",
      "  File \"/opt/anaconda3/envs/pytorch/lib/python3.8/site-packages/requests/adapters.py\", line 439, in send\n",
      "    resp = conn.urlopen(\n",
      "  File \"/opt/anaconda3/envs/pytorch/lib/python3.8/site-packages/urllib3/connectionpool.py\", line 755, in urlopen\n",
      "    retries = retries.increment(\n",
      "  File \"/opt/anaconda3/envs/pytorch/lib/python3.8/site-packages/urllib3/util/retry.py\", line 574, in increment\n",
      "    raise MaxRetryError(_pool, url, error or ResponseError(cause))\n",
      "urllib3.exceptions.MaxRetryError: HTTPConnectionPool(host='localhost', port=8097): Max retries exceeded with url: /events (Caused by NewConnectionError('<urllib3.connection.HTTPConnection object at 0x7fb9c977b760>: Failed to establish a new connection: [Errno 61] Connection refused'))\n",
      "\n",
      "During handling of the above exception, another exception occurred:\n",
      "\n",
      "Traceback (most recent call last):\n",
      "  File \"/opt/anaconda3/envs/pytorch/lib/python3.8/site-packages/visdom/__init__.py\", line 708, in _send\n",
      "    return self._handle_post(\n",
      "  File \"/opt/anaconda3/envs/pytorch/lib/python3.8/site-packages/visdom/__init__.py\", line 677, in _handle_post\n",
      "    r = self.session.post(url, data=data)\n",
      "  File \"/opt/anaconda3/envs/pytorch/lib/python3.8/site-packages/requests/sessions.py\", line 590, in post\n",
      "    return self.request('POST', url, data=data, json=json, **kwargs)\n",
      "  File \"/opt/anaconda3/envs/pytorch/lib/python3.8/site-packages/requests/sessions.py\", line 542, in request\n",
      "    resp = self.send(prep, **send_kwargs)\n",
      "  File \"/opt/anaconda3/envs/pytorch/lib/python3.8/site-packages/requests/sessions.py\", line 655, in send\n",
      "    r = adapter.send(request, **kwargs)\n",
      "  File \"/opt/anaconda3/envs/pytorch/lib/python3.8/site-packages/requests/adapters.py\", line 516, in send\n",
      "    raise ConnectionError(e, request=request)\n",
      "requests.exceptions.ConnectionError: HTTPConnectionPool(host='localhost', port=8097): Max retries exceeded with url: /events (Caused by NewConnectionError('<urllib3.connection.HTTPConnection object at 0x7fb9c977b760>: Failed to establish a new connection: [Errno 61] Connection refused'))\n",
      "Traceback (most recent call last):\n",
      "  File \"/opt/anaconda3/envs/pytorch/lib/python3.8/site-packages/urllib3/connection.py\", line 169, in _new_conn\n",
      "    conn = connection.create_connection(\n",
      "  File \"/opt/anaconda3/envs/pytorch/lib/python3.8/site-packages/urllib3/util/connection.py\", line 96, in create_connection\n",
      "    raise err\n",
      "  File \"/opt/anaconda3/envs/pytorch/lib/python3.8/site-packages/urllib3/util/connection.py\", line 86, in create_connection\n",
      "    sock.connect(sa)\n",
      "ConnectionRefusedError: [Errno 61] Connection refused\n",
      "\n",
      "During handling of the above exception, another exception occurred:\n",
      "\n",
      "Traceback (most recent call last):\n",
      "  File \"/opt/anaconda3/envs/pytorch/lib/python3.8/site-packages/urllib3/connectionpool.py\", line 699, in urlopen\n",
      "    httplib_response = self._make_request(\n",
      "  File \"/opt/anaconda3/envs/pytorch/lib/python3.8/site-packages/urllib3/connectionpool.py\", line 394, in _make_request\n",
      "    conn.request(method, url, **httplib_request_kw)\n",
      "  File \"/opt/anaconda3/envs/pytorch/lib/python3.8/site-packages/urllib3/connection.py\", line 234, in request\n",
      "    super(HTTPConnection, self).request(method, url, body=body, headers=headers)\n",
      "  File \"/opt/anaconda3/envs/pytorch/lib/python3.8/http/client.py\", line 1255, in request\n",
      "    self._send_request(method, url, body, headers, encode_chunked)\n",
      "  File \"/opt/anaconda3/envs/pytorch/lib/python3.8/http/client.py\", line 1301, in _send_request\n",
      "    self.endheaders(body, encode_chunked=encode_chunked)\n",
      "  File \"/opt/anaconda3/envs/pytorch/lib/python3.8/http/client.py\", line 1250, in endheaders\n",
      "    self._send_output(message_body, encode_chunked=encode_chunked)\n",
      "  File \"/opt/anaconda3/envs/pytorch/lib/python3.8/http/client.py\", line 1010, in _send_output\n",
      "    self.send(msg)\n",
      "  File \"/opt/anaconda3/envs/pytorch/lib/python3.8/http/client.py\", line 950, in send\n",
      "    self.connect()\n",
      "  File \"/opt/anaconda3/envs/pytorch/lib/python3.8/site-packages/urllib3/connection.py\", line 200, in connect\n",
      "    conn = self._new_conn()\n",
      "  File \"/opt/anaconda3/envs/pytorch/lib/python3.8/site-packages/urllib3/connection.py\", line 181, in _new_conn\n",
      "    raise NewConnectionError(\n",
      "urllib3.exceptions.NewConnectionError: <urllib3.connection.HTTPConnection object at 0x7fb9c978c6a0>: Failed to establish a new connection: [Errno 61] Connection refused\n",
      "\n",
      "During handling of the above exception, another exception occurred:\n",
      "\n",
      "Traceback (most recent call last):\n",
      "  File \"/opt/anaconda3/envs/pytorch/lib/python3.8/site-packages/requests/adapters.py\", line 439, in send\n",
      "    resp = conn.urlopen(\n",
      "  File \"/opt/anaconda3/envs/pytorch/lib/python3.8/site-packages/urllib3/connectionpool.py\", line 755, in urlopen\n",
      "    retries = retries.increment(\n",
      "  File \"/opt/anaconda3/envs/pytorch/lib/python3.8/site-packages/urllib3/util/retry.py\", line 574, in increment\n",
      "    raise MaxRetryError(_pool, url, error or ResponseError(cause))\n",
      "urllib3.exceptions.MaxRetryError: HTTPConnectionPool(host='localhost', port=8097): Max retries exceeded with url: /events (Caused by NewConnectionError('<urllib3.connection.HTTPConnection object at 0x7fb9c978c6a0>: Failed to establish a new connection: [Errno 61] Connection refused'))\n",
      "\n",
      "During handling of the above exception, another exception occurred:\n",
      "\n",
      "Traceback (most recent call last):\n",
      "  File \"/opt/anaconda3/envs/pytorch/lib/python3.8/site-packages/visdom/__init__.py\", line 708, in _send\n",
      "    return self._handle_post(\n",
      "  File \"/opt/anaconda3/envs/pytorch/lib/python3.8/site-packages/visdom/__init__.py\", line 677, in _handle_post\n",
      "    r = self.session.post(url, data=data)\n",
      "  File \"/opt/anaconda3/envs/pytorch/lib/python3.8/site-packages/requests/sessions.py\", line 590, in post\n",
      "    return self.request('POST', url, data=data, json=json, **kwargs)\n",
      "  File \"/opt/anaconda3/envs/pytorch/lib/python3.8/site-packages/requests/sessions.py\", line 542, in request\n",
      "    resp = self.send(prep, **send_kwargs)\n",
      "  File \"/opt/anaconda3/envs/pytorch/lib/python3.8/site-packages/requests/sessions.py\", line 655, in send\n",
      "    r = adapter.send(request, **kwargs)\n",
      "  File \"/opt/anaconda3/envs/pytorch/lib/python3.8/site-packages/requests/adapters.py\", line 516, in send\n",
      "    raise ConnectionError(e, request=request)\n",
      "requests.exceptions.ConnectionError: HTTPConnectionPool(host='localhost', port=8097): Max retries exceeded with url: /events (Caused by NewConnectionError('<urllib3.connection.HTTPConnection object at 0x7fb9c978c6a0>: Failed to establish a new connection: [Errno 61] Connection refused'))\n"
     ]
    },
    {
     "data": {
      "text/plain": [
       "False"
      ]
     },
     "execution_count": 29,
     "metadata": {},
     "output_type": "execute_result"
    }
   ],
   "source": [
    "vis = Visdom()\n",
    "vis.scatter(iris_x[:,0:2], Y = iris_y+1, win= 'windows1', env = 'main')\n",
    "vis.scatter(iris_x[:,0:3], Y = iris_y+1, win='3D 散点图', env='main', opts = dict(marersize = 4, xlabel = '特征1', ylabel = '特征2'))\n"
   ]
  },
  {
   "cell_type": "code",
   "execution_count": null,
   "id": "d2d3ae7f",
   "metadata": {},
   "outputs": [],
   "source": []
  }
 ],
 "metadata": {
  "kernelspec": {
   "display_name": "Python pytorch",
   "language": "python",
   "name": "pytorch"
  },
  "language_info": {
   "codemirror_mode": {
    "name": "ipython",
    "version": 3
   },
   "file_extension": ".py",
   "mimetype": "text/x-python",
   "name": "python",
   "nbconvert_exporter": "python",
   "pygments_lexer": "ipython3",
   "version": "3.8.8"
  }
 },
 "nbformat": 4,
 "nbformat_minor": 5
}

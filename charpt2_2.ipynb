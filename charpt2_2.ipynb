{
 "cells": [
  {
   "cell_type": "markdown",
   "id": "4c996f55",
   "metadata": {},
   "source": [
    "# depp learning"
   ]
  },
  {
   "cell_type": "markdown",
   "id": "16b2c54a",
   "metadata": {},
   "source": [
    "# 如何计算accuracy"
   ]
  },
  {
   "cell_type": "code",
   "execution_count": 2,
   "id": "205352fd",
   "metadata": {},
   "outputs": [],
   "source": [
    "import numpy as np\n",
    "\n",
    "import torch\n",
    "import torch.nn as nn\n",
    "import torch.nn.functional as F"
   ]
  },
  {
   "cell_type": "code",
   "execution_count": 24,
   "id": "19f0130a",
   "metadata": {},
   "outputs": [
    {
     "name": "stdout",
     "output_type": "stream",
     "text": [
      "tensor([4, 3, 2, 2])\n",
      "0.5\n"
     ]
    }
   ],
   "source": [
    "logits = torch.rand(4,10)\n",
    "pred = F.softmax(logits, dim = 1)\n",
    "pred_label = pred.argmax(dim = 1)\n",
    "print(pred_label)\n",
    "\n",
    "label = torch.tensor([9,3,2,4])\n",
    "correct = torch.eq(pred_label, label)\n",
    "\n",
    "acc = correct.sum().float().item()/4\n",
    "print(acc)"
   ]
  },
  {
   "cell_type": "markdown",
   "id": "f9a49320",
   "metadata": {},
   "source": [
    "*测试acc一般选择一个epoch测一次*"
   ]
  },
  {
   "cell_type": "markdown",
   "id": "cc39d805",
   "metadata": {},
   "source": [
    "## Conv2d"
   ]
  },
  {
   "cell_type": "code",
   "execution_count": 30,
   "id": "241f1723",
   "metadata": {},
   "outputs": [
    {
     "data": {
      "text/plain": [
       "torch.Size([1, 3, 14, 14])"
      ]
     },
     "execution_count": 30,
     "metadata": {},
     "output_type": "execute_result"
    }
   ],
   "source": [
    "layer = nn.Conv2d(1, 3, kernel_size = 3, stride = 2, padding = 1)\n",
    "x = torch.rand(1, 1, 28, 28)\n",
    "out = layer(x)\n",
    "#out = layer.forward(x) :不推荐使用\n",
    "out.shape"
   ]
  },
  {
   "cell_type": "markdown",
   "id": "f4154c48",
   "metadata": {},
   "source": [
    "Conv2d(input_channel, output_channel, kernel_size, stride, padding)"
   ]
  },
  {
   "cell_type": "code",
   "execution_count": 9,
   "id": "99d3c75e",
   "metadata": {},
   "outputs": [
    {
     "data": {
      "text/plain": [
       "torch.Size([3, 1, 3, 3])"
      ]
     },
     "execution_count": 9,
     "metadata": {},
     "output_type": "execute_result"
    }
   ],
   "source": [
    "layer.weight.shape"
   ]
  },
  {
   "cell_type": "code",
   "execution_count": 10,
   "id": "91a19002",
   "metadata": {},
   "outputs": [
    {
     "data": {
      "text/plain": [
       "torch.Size([3])"
      ]
     },
     "execution_count": 10,
     "metadata": {},
     "output_type": "execute_result"
    }
   ],
   "source": [
    "layer.bias.shape"
   ]
  },
  {
   "cell_type": "markdown",
   "id": "79258859",
   "metadata": {},
   "source": [
    "最大池化"
   ]
  },
  {
   "cell_type": "code",
   "execution_count": 21,
   "id": "8ba4a158",
   "metadata": {},
   "outputs": [
    {
     "data": {
      "text/plain": [
       "torch.Size([1, 3, 3, 3])"
      ]
     },
     "execution_count": 21,
     "metadata": {},
     "output_type": "execute_result"
    }
   ],
   "source": [
    "x = out\n",
    "pool_layer = nn.MaxPool2d(2,stride = 2)\n",
    "out = pool_layer(x)\n",
    "out.shape"
   ]
  },
  {
   "cell_type": "markdown",
   "id": "a1542dc9",
   "metadata": {},
   "source": [
    "上采样"
   ]
  },
  {
   "cell_type": "code",
   "execution_count": 31,
   "id": "d5f847a0",
   "metadata": {},
   "outputs": [
    {
     "name": "stdout",
     "output_type": "stream",
     "text": [
      "torch.Size([1, 3, 14, 14])\n"
     ]
    },
    {
     "data": {
      "text/plain": [
       "torch.Size([1, 3, 28, 28])"
      ]
     },
     "execution_count": 31,
     "metadata": {},
     "output_type": "execute_result"
    }
   ],
   "source": [
    "x = out\n",
    "print(x.shape)\n",
    "out = F.interpolate(x, scale_factor = 2, mode = 'nearest')\n",
    "out.shape"
   ]
  },
  {
   "cell_type": "markdown",
   "id": "24999517",
   "metadata": {},
   "source": [
    "ReLU"
   ]
  },
  {
   "cell_type": "code",
   "execution_count": 32,
   "id": "68bac53c",
   "metadata": {},
   "outputs": [
    {
     "data": {
      "text/plain": [
       "torch.Size([1, 3, 28, 28])"
      ]
     },
     "execution_count": 32,
     "metadata": {},
     "output_type": "execute_result"
    }
   ],
   "source": [
    "x = out\n",
    "relu_layer = nn.ReLU(inplace = True)\n",
    "out = relu_layer(x)\n",
    "out.shape"
   ]
  },
  {
   "cell_type": "markdown",
   "id": "2c95cc3e",
   "metadata": {},
   "source": [
    "批量归一化BN"
   ]
  },
  {
   "cell_type": "code",
   "execution_count": 39,
   "id": "0aaa662a",
   "metadata": {},
   "outputs": [
    {
     "name": "stdout",
     "output_type": "stream",
     "text": [
      "tensor([0.0499, 0.0501, 0.0501, 0.0501, 0.0500, 0.0500, 0.0501, 0.0499, 0.0500,\n",
      "        0.0500, 0.0501, 0.0499, 0.0499, 0.0501, 0.0501, 0.0500])\n",
      "tensor([0.9083, 0.9083, 0.9083, 0.9083, 0.9083, 0.9083, 0.9083, 0.9083, 0.9084,\n",
      "        0.9084, 0.9083, 0.9083, 0.9083, 0.9083, 0.9083, 0.9083])\n",
      "tensor(6.8363e-09, grad_fn=<MeanBackward0>)\n",
      "tensor(0.9999, grad_fn=<VarBackward0>)\n"
     ]
    }
   ],
   "source": [
    "x = torch.rand(100, 16, 784)\n",
    "layer = nn.BatchNorm1d(16) #和通道数对应\n",
    "out = layer(x)\n",
    "print(layer.running_mean)\n",
    "print(layer.running_var)\n",
    "print(out.mean())#0\n",
    "print(out.var())#1"
   ]
  },
  {
   "cell_type": "code",
   "execution_count": 44,
   "id": "6ee1c168",
   "metadata": {},
   "outputs": [
    {
     "name": "stdout",
     "output_type": "stream",
     "text": [
      "Parameter containing:\n",
      "tensor([1., 1., 1.], requires_grad=True)\n",
      "torch.Size([3])\n"
     ]
    }
   ],
   "source": [
    "x = torch.rand(6,3, 28, 28)\n",
    "layer = nn.BatchNorm2d(3)\n",
    "out = layer(x)\n",
    "print(layer.weight)\n",
    "print(layer.weight.shape)"
   ]
  },
  {
   "cell_type": "markdown",
   "id": "e72a9151",
   "metadata": {},
   "source": [
    "残差网络"
   ]
  },
  {
   "cell_type": "code",
   "execution_count": 61,
   "id": "f2e643a2",
   "metadata": {},
   "outputs": [],
   "source": [
    "class ResBlk(nn.Module):\n",
    "    def __init__(self, ch_in, ch_out):\n",
    "        self.conv1 = nn.Conv2d(ch_in, ch_out, kernel_size = 3, stride = 1, padding = 1)\n",
    "        self.bn1 = nn.BatchNorm2d(ch_out)\n",
    "        self.conv2 = nn.Conv2d(ch_out, ch_out, kernel_size = 3, stride = 1, padding = 1)\n",
    "        self.bn2 = nn.BatchNorm2d(ch_out)\n",
    "        \n",
    "        self.extra = nn.Sequential()\n",
    "        if ch_out != ch_in:\n",
    "            self.extra = nn.Sequential(\n",
    "                nn.Conv2d(ch_in,ch_out, kernel_size = 1, stride = 1),\n",
    "                nn.BatchNorm2d(ch_out)\n",
    "            )\n",
    "    def forward(self, x):\n",
    "        out = F.relu(self.bn1(self.conv1(x)))\n",
    "        out = self.bn2(self.conv2(out))\n",
    "        out = self.extra(x) + out\n",
    "        return out"
   ]
  },
  {
   "cell_type": "code",
   "execution_count": 69,
   "id": "d6b1b13b",
   "metadata": {},
   "outputs": [],
   "source": [
    "class Net(nn.Module):\n",
    "    def __init__(self, ch_in, ch_out):\n",
    "        super(Net, self).__init__()\n",
    "        self.net = nn.Sequential(ResBlk(ch_in, ch_out),\n",
    "                                 nn.ReLU(),\n",
    "                                 nn.Linear()\n",
    "                                )\n",
    "    def forward(self, x):\n",
    "        return self.net(x)"
   ]
  },
  {
   "cell_type": "code",
   "execution_count": 78,
   "id": "546d5b4d",
   "metadata": {},
   "outputs": [
    {
     "data": {
      "text/plain": [
       "tensor([[ 4.,  6.],\n",
       "        [ 8., 10.]])"
      ]
     },
     "execution_count": 78,
     "metadata": {},
     "output_type": "execute_result"
    }
   ],
   "source": []
  },
  {
   "cell_type": "markdown",
   "id": "fad839ce",
   "metadata": {},
   "source": [
    "## Pytorch中数据操作和预处理"
   ]
  },
  {
   "cell_type": "code",
   "execution_count": 11,
   "id": "68c9e336",
   "metadata": {},
   "outputs": [],
   "source": [
    "import torch\n",
    "import torch.utils.data as Data\n",
    "from sklearn.datasets import load_boston, load_iris\n",
    "import numpy as np\n",
    "\n",
    "boston_X, boston_y = load_boston(return_X_y = True)"
   ]
  },
  {
   "cell_type": "code",
   "execution_count": 12,
   "id": "01ff129b",
   "metadata": {},
   "outputs": [],
   "source": [
    "train_xt = torch.from_numpy(boston_X.astype(np.float32))\n",
    "train_yt = torch.from_numpy(boston_y.astype(np.float32))"
   ]
  },
  {
   "cell_type": "code",
   "execution_count": 14,
   "id": "a8a46082",
   "metadata": {},
   "outputs": [
    {
     "name": "stdout",
     "output_type": "stream",
     "text": [
      "data_shaoe: torch.Size([64, 13])\n",
      "target_shape: torch.Size([64])\n"
     ]
    }
   ],
   "source": [
    "train_data = Data.TensorDataset(train_xt, train_yt)\n",
    "train_loader = Data.DataLoader(dataset = train_data, batch_size = 64, shuffle = True, num_workers = 1)\n",
    "\n",
    "for batch_idx, (data, target) in enumerate(train_loader):\n",
    "    if batch_idx > 0:\n",
    "        break\n",
    "    print('data_shaoe:',data.shape)\n",
    "    print('target_shape:', target.shape)"
   ]
  },
  {
   "cell_type": "code",
   "execution_count": 15,
   "id": "29d3bf20",
   "metadata": {},
   "outputs": [
    {
     "name": "stdout",
     "output_type": "stream",
     "text": [
      "float64\n"
     ]
    }
   ],
   "source": [
    "iris_X, iris_y = load_iris(return_X_y = True)\n",
    "print(iris_X.dtype)"
   ]
  },
  {
   "cell_type": "code",
   "execution_count": 51,
   "id": "3d532062",
   "metadata": {
    "scrolled": true
   },
   "outputs": [
    {
     "name": "stdout",
     "output_type": "stream",
     "text": [
      "tensor([[5.1000, 3.8000, 1.9000, 0.4000],\n",
      "        [5.0000, 3.4000, 1.6000, 0.4000],\n",
      "        [5.6000, 2.9000, 3.6000, 1.3000],\n",
      "        [5.2000, 2.7000, 3.9000, 1.4000],\n",
      "        [5.1000, 3.8000, 1.6000, 0.2000],\n",
      "        [4.6000, 3.6000, 1.0000, 0.2000],\n",
      "        [6.0000, 2.9000, 4.5000, 1.5000],\n",
      "        [5.1000, 3.8000, 1.5000, 0.3000],\n",
      "        [5.6000, 2.7000, 4.2000, 1.3000],\n",
      "        [4.7000, 3.2000, 1.6000, 0.2000]])\n",
      "torch.float32\n",
      "torch.Size([10])\n",
      "torch.int64\n"
     ]
    }
   ],
   "source": [
    "train_xt = torch.from_numpy(iris_X.astype(np.float32))\n",
    "train_yt = torch.from_numpy(iris_y.astype(np.int64))\n",
    "\n",
    "train_data = Data.TensorDataset(train_xt, train_yt)\n",
    "train_loader = Data.DataLoader(dataset = train_data, batch_size = 10, shuffle = True, num_workers = 1)\n",
    "\n",
    "for batch_idx, (data, target) in enumerate(train_loader):\n",
    "    if batch_idx > 0:\n",
    "        break;\n",
    "    print(data.view(-1,4))\n",
    "    print(data.dtype)\n",
    "    print(target.shape)\n",
    "    print(target.dtype)"
   ]
  },
  {
   "cell_type": "markdown",
   "id": "6f806fa0",
   "metadata": {},
   "source": [
    "### 图像数据"
   ]
  },
  {
   "cell_type": "code",
   "execution_count": 67,
   "id": "034523aa",
   "metadata": {},
   "outputs": [],
   "source": [
    "import torch\n",
    "import torch.utils.data as Data\n",
    "from torchvision.datasets import FashionMNIST\n",
    "import torchvision.transforms as transforms\n",
    "from torchvision.datasets import ImageFolder"
   ]
  },
  {
   "cell_type": "code",
   "execution_count": 82,
   "id": "97c687ba",
   "metadata": {
    "scrolled": true
   },
   "outputs": [
    {
     "name": "stdout",
     "output_type": "stream",
     "text": [
      "torch.Size([4, 3, 224, 224])\n",
      "torch.Size([4])\n",
      "tensor([[[[0.4863, 0.4667, 0.5098,  ..., 0.3020, 0.3216, 0.3373],\n",
      "          [0.5176, 0.4941, 0.4941,  ..., 0.3098, 0.3176, 0.3333],\n",
      "          [0.5608, 0.5529, 0.5333,  ..., 0.3059, 0.3098, 0.3176],\n",
      "          ...,\n",
      "          [0.2314, 0.2118, 0.1804,  ..., 0.2706, 0.2196, 0.1765],\n",
      "          [0.2157, 0.2078, 0.1922,  ..., 0.1333, 0.0941, 0.1020],\n",
      "          [0.2078, 0.1961, 0.1843,  ..., 0.0471, 0.0549, 0.0863]],\n",
      "\n",
      "         [[0.4235, 0.4000, 0.4431,  ..., 0.3137, 0.3333, 0.3451],\n",
      "          [0.4549, 0.4314, 0.4392,  ..., 0.3176, 0.3255, 0.3373],\n",
      "          [0.4863, 0.4863, 0.4745,  ..., 0.3176, 0.3176, 0.3255],\n",
      "          ...,\n",
      "          [0.2314, 0.2118, 0.1882,  ..., 0.2824, 0.2235, 0.1569],\n",
      "          [0.2157, 0.2078, 0.1961,  ..., 0.1529, 0.1020, 0.0784],\n",
      "          [0.2118, 0.2039, 0.1961,  ..., 0.0392, 0.0471, 0.0745]],\n",
      "\n",
      "         [[0.3725, 0.3686, 0.4078,  ..., 0.2863, 0.3059, 0.3137],\n",
      "          [0.4000, 0.4000, 0.3882,  ..., 0.2941, 0.3020, 0.3137],\n",
      "          [0.4392, 0.4353, 0.4157,  ..., 0.2941, 0.2980, 0.3020],\n",
      "          ...,\n",
      "          [0.2275, 0.2118, 0.1882,  ..., 0.2667, 0.2039, 0.1333],\n",
      "          [0.2078, 0.2039, 0.1961,  ..., 0.1333, 0.0824, 0.0588],\n",
      "          [0.2039, 0.2039, 0.2000,  ..., 0.0196, 0.0275, 0.0549]]],\n",
      "\n",
      "\n",
      "        [[[0.7098, 0.4118, 0.0863,  ..., 0.5255, 0.5137, 0.4000],\n",
      "          [0.7216, 0.3294, 0.0745,  ..., 0.4431, 0.4314, 0.4157],\n",
      "          [0.6745, 0.2392, 0.0706,  ..., 0.4549, 0.4275, 0.4157],\n",
      "          ...,\n",
      "          [0.7137, 0.8078, 0.8275,  ..., 0.4941, 0.4824, 0.5686],\n",
      "          [0.6667, 0.7294, 0.8078,  ..., 0.5216, 0.5765, 0.6196],\n",
      "          [0.6078, 0.6000, 0.6980,  ..., 0.5882, 0.6510, 0.6588]],\n",
      "\n",
      "         [[0.5451, 0.2784, 0.0902,  ..., 0.4510, 0.4235, 0.2902],\n",
      "          [0.4863, 0.2000, 0.0863,  ..., 0.4118, 0.4157, 0.4039],\n",
      "          [0.4392, 0.1412, 0.1137,  ..., 0.4314, 0.4275, 0.4235],\n",
      "          ...,\n",
      "          [0.6471, 0.7529, 0.7686,  ..., 0.3333, 0.3647, 0.5020],\n",
      "          [0.5804, 0.6667, 0.7608,  ..., 0.3765, 0.4784, 0.5686],\n",
      "          [0.4471, 0.5098, 0.6588,  ..., 0.4588, 0.5686, 0.6118]],\n",
      "\n",
      "         [[0.8667, 0.4824, 0.0745,  ..., 0.4667, 0.4235, 0.2941],\n",
      "          [0.8588, 0.3882, 0.0824,  ..., 0.4078, 0.3922, 0.3725],\n",
      "          [0.8000, 0.2510, 0.0784,  ..., 0.4235, 0.4000, 0.3843],\n",
      "          ...,\n",
      "          [0.6588, 0.8118, 0.8431,  ..., 0.4431, 0.4745, 0.6392],\n",
      "          [0.5922, 0.7020, 0.8118,  ..., 0.4706, 0.5843, 0.6980],\n",
      "          [0.4863, 0.5686, 0.7176,  ..., 0.5373, 0.6667, 0.7294]]],\n",
      "\n",
      "\n",
      "        [[[0.1804, 0.1647, 0.1529,  ..., 0.1961, 0.2000, 0.2000],\n",
      "          [0.1569, 0.1882, 0.1451,  ..., 0.2000, 0.1922, 0.1922],\n",
      "          [0.1529, 0.1686, 0.1608,  ..., 0.2078, 0.2000, 0.1922],\n",
      "          ...,\n",
      "          [0.6980, 0.6980, 0.7020,  ..., 0.6235, 0.6078, 0.5804],\n",
      "          [0.6902, 0.6941, 0.6941,  ..., 0.6000, 0.5804, 0.5725],\n",
      "          [0.6863, 0.6902, 0.6863,  ..., 0.5647, 0.5804, 0.6039]],\n",
      "\n",
      "         [[0.1176, 0.1098, 0.0941,  ..., 0.1216, 0.1255, 0.1255],\n",
      "          [0.0980, 0.1294, 0.0824,  ..., 0.1333, 0.1294, 0.1255],\n",
      "          [0.0980, 0.1098, 0.0980,  ..., 0.1412, 0.1333, 0.1255],\n",
      "          ...,\n",
      "          [0.4784, 0.4784, 0.4824,  ..., 0.4118, 0.3882, 0.3490],\n",
      "          [0.4745, 0.4745, 0.4784,  ..., 0.3804, 0.3490, 0.3333],\n",
      "          [0.4706, 0.4745, 0.4706,  ..., 0.3373, 0.3373, 0.3647]],\n",
      "\n",
      "         [[0.0431, 0.0314, 0.0314,  ..., 0.0000, 0.0000, 0.0000],\n",
      "          [0.0118, 0.0431, 0.0196,  ..., 0.0039, 0.0078, 0.0078],\n",
      "          [0.0039, 0.0235, 0.0314,  ..., 0.0078, 0.0078, 0.0039],\n",
      "          ...,\n",
      "          [0.0118, 0.0118, 0.0078,  ..., 0.0118, 0.0118, 0.0039],\n",
      "          [0.0078, 0.0078, 0.0078,  ..., 0.0118, 0.0039, 0.0000],\n",
      "          [0.0039, 0.0078, 0.0039,  ..., 0.0118, 0.0039, 0.0078]]],\n",
      "\n",
      "\n",
      "        [[[0.9961, 1.0000, 1.0000,  ..., 0.9765, 0.9765, 0.9804],\n",
      "          [1.0000, 1.0000, 1.0000,  ..., 0.9765, 0.9765, 0.9804],\n",
      "          [1.0000, 1.0000, 1.0000,  ..., 0.9765, 0.9765, 0.9765],\n",
      "          ...,\n",
      "          [0.9373, 0.9294, 0.9373,  ..., 0.9608, 0.9608, 0.9608],\n",
      "          [0.9333, 0.9373, 0.9373,  ..., 0.9686, 0.9686, 0.9647],\n",
      "          [0.8863, 0.9020, 0.9059,  ..., 0.9765, 0.9725, 0.9647]],\n",
      "\n",
      "         [[1.0000, 1.0000, 1.0000,  ..., 0.8157, 0.8157, 0.8196],\n",
      "          [1.0000, 1.0000, 1.0000,  ..., 0.8196, 0.8196, 0.8235],\n",
      "          [0.9961, 1.0000, 1.0000,  ..., 0.8275, 0.8275, 0.8275],\n",
      "          ...,\n",
      "          [0.9255, 0.9216, 0.9333,  ..., 0.9765, 0.9765, 0.9765],\n",
      "          [0.9294, 0.9333, 0.9373,  ..., 0.9804, 0.9804, 0.9804],\n",
      "          [0.8863, 0.9059, 0.9059,  ..., 0.9804, 0.9804, 0.9804]],\n",
      "\n",
      "         [[0.9451, 0.9725, 0.9961,  ..., 0.4627, 0.4627, 0.4667],\n",
      "          [0.9608, 0.9804, 1.0000,  ..., 0.4706, 0.4745, 0.4784],\n",
      "          [0.9804, 0.9922, 0.9961,  ..., 0.4824, 0.4824, 0.4863],\n",
      "          ...,\n",
      "          [0.9373, 0.9373, 0.9451,  ..., 0.9882, 0.9922, 0.9922],\n",
      "          [0.9451, 0.9490, 0.9569,  ..., 0.9843, 0.9882, 0.9922],\n",
      "          [0.8941, 0.9137, 0.9294,  ..., 0.9882, 0.9882, 0.9922]]]])\n"
     ]
    }
   ],
   "source": [
    "train_data_transforms = transforms.Compose([\n",
    "    transforms.RandomResizedCrop(224), #切成224*224\n",
    "    transforms.RandomHorizontalFlip(), #p=0.5翻转\n",
    "    transforms.ToTensor()\n",
    "])\n",
    "train_data_dir = '../../cv/insect_classification_pytorch/dataset/train/'\n",
    "train_data = ImageFolder(train_data_dir, train_data_transforms)\n",
    "train_data_loader = Data.DataLoader(dataset = train_data, batch_size = 4, shuffle = True, num_workers = 1)\n",
    "\n",
    "for batch_idx,(data, target) in enumerate(train_data_loader):\n",
    "    if batch_idx > 0:\n",
    "        break\n",
    "    print(data.shape)\n",
    "    print(target.shape)\n",
    "    print(data)"
   ]
  },
  {
   "cell_type": "code",
   "execution_count": null,
   "id": "6e87ef1a",
   "metadata": {},
   "outputs": [],
   "source": []
  }
 ],
 "metadata": {
  "kernelspec": {
   "display_name": "Python [conda env:pytorch] *",
   "language": "python",
   "name": "conda-env-pytorch-py"
  },
  "language_info": {
   "codemirror_mode": {
    "name": "ipython",
    "version": 3
   },
   "file_extension": ".py",
   "mimetype": "text/x-python",
   "name": "python",
   "nbconvert_exporter": "python",
   "pygments_lexer": "ipython3",
   "version": "3.8.8"
  }
 },
 "nbformat": 4,
 "nbformat_minor": 5
}
